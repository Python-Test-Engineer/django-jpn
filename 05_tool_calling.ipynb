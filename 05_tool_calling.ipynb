{
 "cells": [
  {
   "cell_type": "markdown",
   "id": "84142088",
   "metadata": {},
   "source": [
    "Like routing, we can also ask the LLM to select the most appropriate tool to use.\n",
    "\n",
    "In this example, we see how to do Function/Tool Calling.\n",
    "\n",
    "In essence, the LLM decides on the tool/function it wants to use and send back the function name and arguments for us to run on our own box, get the result and then add this to the messages in the next LLM request.\n"
   ]
  },
  {
   "cell_type": "code",
   "execution_count": 25,
   "id": "de23bb9e-37c5-4377-9a82-d7b6c648eeb6",
   "metadata": {},
   "outputs": [],
   "source": [
    "import os\n",
    "import json\n",
    "from dotenv import load_dotenv\n",
    "from openai import OpenAI\n",
    "import requests"
   ]
  },
  {
   "cell_type": "code",
   "execution_count": 26,
   "id": "1179b4c5-cd1f-4131-a876-4c9f3f38d2ba",
   "metadata": {},
   "outputs": [
    {
     "name": "stdout",
     "output_type": "stream",
     "text": [
      "OpenAI API Key exists and begins sk-proj-y-\n"
     ]
    }
   ],
   "source": [
    "# Load environment variables in a file called .env\n",
    "# Print the key prefixes to help with any debugging\n",
    "\n",
    "load_dotenv()\n",
    "openai_api_key = os.getenv(\"OPENAI_API_KEY\")\n",
    "\n",
    "\n",
    "if openai_api_key:\n",
    "    print(f\"OpenAI API Key exists and begins {openai_api_key[:10]}\")\n",
    "else:\n",
    "    print(\"OpenAI API Key not set\")"
   ]
  },
  {
   "cell_type": "code",
   "execution_count": 27,
   "id": "797fe7b0-ad43-42d2-acf0-e4f309b112f0",
   "metadata": {},
   "outputs": [],
   "source": [
    "client = OpenAI()\n",
    "MODEL = \"gpt-4o-mini\""
   ]
  },
  {
   "cell_type": "code",
   "execution_count": 28,
   "id": "dd922b42",
   "metadata": {},
   "outputs": [],
   "source": [
    "# original propmt\n",
    "system_message = \"\"\"\n",
    "You are an assistant that is very good at determining what tool to use to solve queries.\n",
    "\"\"\"\n",
    "\n",
    "ai_programming = \"\"\"\n",
    "\n",
    "# TOOLS\n",
    "\n",
    "You have two tools:\n",
    "\n",
    "1. A calculator tool that can perform basic arithmetic operations, such as addition, subtraction, multiplication, and division. If this tool is used then respond in JSON FORMAT.\n",
    "\n",
    "## Example JSON format:\n",
    "\n",
    "{\"tool\": \"calculator\", \"next\": \"do_calculation\", \"arguments\": {\"num1\": 5, \"num2\": 5, \"operation\": \"addition\"}} \n",
    "\n",
    "2. A jokes tool that can provide a light-hearted joke for the audience reqested. If this tool is used then respond in JSON FORMAT.\n",
    "\n",
    "## Example JSON format:\n",
    "\n",
    "{\"tool\": \"joke\", \"next\": \"do_joke\", \"audience\": \"Pythonistas\" }} \n",
    "\n",
    "    \n",
    "Thank you for your being accurate and complete with this query.\n",
    "\"\"\"\n",
    "\n",
    "system_message += ai_programming"
   ]
  },
  {
   "cell_type": "code",
   "execution_count": 29,
   "id": "9fa6d2ce",
   "metadata": {},
   "outputs": [
    {
     "name": "stdout",
     "output_type": "stream",
     "text": [
      "{\"tool\": \"joke\", \"next\": \"do_joke\", \"audience\": \"Builders Conference\"}\n"
     ]
    }
   ],
   "source": [
    "# user_prompt = \"What is 102 plus 3?\"\n",
    "user_prompt = \"Tell me a joke when I am doing stand up at a Builders Conference\"\n",
    "\n",
    "prompts = [\n",
    "    {\"role\": \"system\", \"content\": system_message},\n",
    "    {\"role\": \"user\", \"content\": user_prompt},\n",
    "]\n",
    "\n",
    "response = client.chat.completions.create(model=MODEL, messages=prompts)\n",
    "\n",
    "print(response.choices[0].message.content)\n",
    "\n",
    "output = response.choices[0].message.content.replace(\"\\n\", \"\")"
   ]
  },
  {
   "cell_type": "markdown",
   "id": "63d890bd",
   "metadata": {},
   "source": [
    "Having got the function and arguments, we extract these from the response and run it."
   ]
  },
  {
   "cell_type": "code",
   "execution_count": 30,
   "id": "7fe3437e",
   "metadata": {},
   "outputs": [
    {
     "name": "stdout",
     "output_type": "stream",
     "text": [
      "{'tool': 'joke', 'next': 'do_joke', 'audience': 'Builders Conference'}\n"
     ]
    }
   ],
   "source": [
    "json_output = output.strip()\n",
    "json_output = json.loads(json_output)\n",
    "print(json_output)\n",
    "do_next = json_output[\"next\"]"
   ]
  },
  {
   "cell_type": "markdown",
   "id": "e55a24fe",
   "metadata": {},
   "source": [
    "Now we use our day to day Python to run the selected tool.\n",
    "\n",
    "There are other ways we might code this but this will suffice for demonstration purposes."
   ]
  },
  {
   "cell_type": "code",
   "execution_count": 31,
   "id": "473647c9",
   "metadata": {},
   "outputs": [],
   "source": [
    "if do_next == \"do_calculation\":\n",
    "    tool = json_output[\"tool\"]\n",
    "    num1 = json_output[\"arguments\"][\"num1\"]\n",
    "    num2 = json_output[\"arguments\"][\"num2\"]\n",
    "    operation = json_output[\"arguments\"][\"operation\"]\n",
    "    if operation == \"addition\":\n",
    "        answer = num1 + num2\n",
    "    elif operation == \"subtraction\":\n",
    "        answer = num1 - num2\n",
    "    elif operation == \"multiplication\":\n",
    "        answer = num1 * num2\n",
    "    elif operation == \"division\":\n",
    "        answer = num1 / num2\n",
    "    print(f\"{num1} {operation} {num2} = {answer}\")"
   ]
  },
  {
   "cell_type": "code",
   "execution_count": 32,
   "id": "25e268dd",
   "metadata": {},
   "outputs": [
    {
     "name": "stdout",
     "output_type": "stream",
     "text": [
      "{'type': 'general', 'setup': 'What did the grape do when he got stepped on?', 'punchline': 'He let out a little wine.', 'id': 173}\n"
     ]
    }
   ],
   "source": [
    "if do_next == \"do_joke\":\n",
    "    get_random_joke_internet = requests.get(\n",
    "        \"https://official-joke-api.appspot.com/random_joke\"\n",
    "    )\n",
    "\n",
    "    print(get_random_joke_internet.json())"
   ]
  },
  {
   "cell_type": "markdown",
   "id": "5003e17b",
   "metadata": {},
   "source": [
    "Where are the functions run? From the OpenAI website, we can see at the arrow that tools are executed on our 'box'.\n",
    "\n",
    "<img style=\"width:600px;\" src=\"./images/where-tools-are-executed.png\">\n"
   ]
  }
 ],
 "metadata": {
  "kernelspec": {
   "display_name": "venv",
   "language": "python",
   "name": "python3"
  },
  "language_info": {
   "codemirror_mode": {
    "name": "ipython",
    "version": 3
   },
   "file_extension": ".py",
   "mimetype": "text/x-python",
   "name": "python",
   "nbconvert_exporter": "python",
   "pygments_lexer": "ipython3",
   "version": "3.12.8"
  }
 },
 "nbformat": 4,
 "nbformat_minor": 5
}
