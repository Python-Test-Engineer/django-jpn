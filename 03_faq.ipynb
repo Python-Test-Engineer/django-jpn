{
 "cells": [
  {
   "cell_type": "markdown",
   "id": "b44f832a",
   "metadata": {},
   "source": [
    "In this example we will see an example of RAG - Retrieval Augmented Generation.\n",
    "\n",
    "RAG is not just asking questions of documents using vector search - it is augmenting the LLM request with additonal data in lieu of fine tuning the model.\n",
    "\n",
    "We are going to give it a list of FAQs so that we can use a ChatBot to ask questions.\n",
    "\n",
    "This example will pave the way for a ROUTER pattern in the next file example.\n"
   ]
  },
  {
   "cell_type": "code",
   "execution_count": 1,
   "id": "70e39cd8-ec79-4e3e-9c26-5659d42d0861",
   "metadata": {},
   "outputs": [
    {
     "name": "stderr",
     "output_type": "stream",
     "text": [
      "c:\\Users\\mrcra\\Desktop\\conf42-ai-agents\\venv\\Lib\\site-packages\\tqdm\\auto.py:21: TqdmWarning: IProgress not found. Please update jupyter and ipywidgets. See https://ipywidgets.readthedocs.io/en/stable/user_install.html\n",
      "  from .autonotebook import tqdm as notebook_tqdm\n"
     ]
    }
   ],
   "source": [
    "import os\n",
    "from dotenv import load_dotenv\n",
    "from openai import OpenAI\n",
    "import gradio as gr"
   ]
  },
  {
   "cell_type": "code",
   "execution_count": 2,
   "id": "231605aa-fccb-447e-89cf-8b187444536a",
   "metadata": {},
   "outputs": [
    {
     "name": "stdout",
     "output_type": "stream",
     "text": [
      "OpenAI API Key exists and begins sk-proj-y-\n"
     ]
    }
   ],
   "source": [
    "# Load environment variables in a file called .env\n",
    "# Print the key prefixes to help with any debugging\n",
    "\n",
    "load_dotenv()\n",
    "openai_api_key = os.getenv(\"OPENAI_API_KEY\")\n",
    "\n",
    "if openai_api_key:\n",
    "    print(f\"OpenAI API Key exists and begins {openai_api_key[:10]}\")\n",
    "else:\n",
    "    print(\"OpenAI API Key not set\")"
   ]
  },
  {
   "cell_type": "code",
   "execution_count": 3,
   "id": "6541d58e-2297-4de1-b1f7-77da1b98b8bb",
   "metadata": {},
   "outputs": [],
   "source": [
    "# Initialize\n",
    "\n",
    "client = OpenAI()\n",
    "MODEL = \"gpt-4o-mini\""
   ]
  },
  {
   "cell_type": "code",
   "execution_count": 4,
   "id": "1eacc8a4-4b48-4358-9e06-ce0020041bc1",
   "metadata": {},
   "outputs": [],
   "source": [
    "# A function to send a request to the LLM with 'history' added for the chatbot functionality.\n",
    "\n",
    "# A request to the LLM is stateless so we will always need to pass all the data that is needed each time.\n",
    "\n",
    "# `history` is just that - a record of what has gone on before so that the LLM can have context to answer the query.\n",
    "\n",
    "\n",
    "def chat(message, history):\n",
    "\n",
    "    messages = (\n",
    "\n",
    "        [{\"role\": \"system\", \"content\": system_message}]\n",
    "        + history\n",
    "        + [{\"role\": \"user\", \"content\": message}]\n",
    "    )\n",
    "\n",
    "    print(\"History is:\")\n",
    "\n",
    "    print(history)\n",
    "\n",
    "    print(\"And messages is:\")\n",
    "\n",
    "    print(messages)\n",
    "\n",
    "    stream = client.chat.completions.create(model=MODEL, messages=messages, stream=True)\n",
    "\n",
    "    response = \"\"\n",
    "    for stream_so_far in stream:\n",
    "\n",
    "        response += stream_so_far.choices[0].delta.content or \"\"\n",
    "\n",
    "        yield response"
   ]
  },
  {
   "cell_type": "code",
   "execution_count": 5,
   "id": "1f91b414-8bab-472d-b9c9-3fa51259bdfe",
   "metadata": {},
   "outputs": [],
   "source": [
    "# We set up the backround scenario in the system messaage.\n",
    "# In some frameworks this is called 'background'.\n",
    "\n",
    "system_message = \"You are a helpful assistant for a shoe store. If a user asks a question please be as helpful as possible and use a courteous and professional manner. You are provided with the following facts to help you. Please be verbose and suggestive.\""
   ]
  },
  {
   "cell_type": "code",
   "execution_count": 6,
   "id": "11d57e30",
   "metadata": {},
   "outputs": [],
   "source": [
    "# FAQ is just data extracted from a source and inserted into the system message. RAG - Retrieval Augmented Generation. This does not need to be a vector search but additional information we pass to the LLM.\n",
    "\n",
    "FAQ = [\n",
    "    \"We only sell shoes.\",\n",
    "    \"Our opening hours are Monday to Friday from 9am to 5pm.\",\n",
    "    \"We are located at 123 Main Street, Brighton\",\n",
    "    \"We specialise in red shoes but have all colours\",\n",
    "    \"Our VAT rate is 20 percent and is applicable on all sales\",\n",
    "    \"We only accept card payments\",\n",
    "]\n",
    "\n",
    "# Create the base system message\n",
    "system_message += \"\\n\" + \"\\n\".join(FAQ)"
   ]
  },
  {
   "cell_type": "code",
   "execution_count": 7,
   "id": "413e9e4e-7836-43ac-a0c3-e1ab5ed6b136",
   "metadata": {},
   "outputs": [
    {
     "name": "stdout",
     "output_type": "stream",
     "text": [
      "* Running on local URL:  http://127.0.0.1:7860\n",
      "\n",
      "To create a public link, set `share=True` in `launch()`.\n"
     ]
    },
    {
     "data": {
      "text/html": [
       "<div><iframe src=\"http://127.0.0.1:7860/\" width=\"100%\" height=\"500\" allow=\"autoplay; camera; microphone; clipboard-read; clipboard-write;\" frameborder=\"0\" allowfullscreen></iframe></div>"
      ],
      "text/plain": [
       "<IPython.core.display.HTML object>"
      ]
     },
     "metadata": {},
     "output_type": "display_data"
    },
    {
     "data": {
      "text/plain": []
     },
     "execution_count": 7,
     "metadata": {},
     "output_type": "execute_result"
    },
    {
     "name": "stdout",
     "output_type": "stream",
     "text": [
      "History is:\n",
      "[]\n",
      "And messages is:\n",
      "[{'role': 'system', 'content': 'You are a helpful assistant for a shoe store. If a user asks a question please be as helpful as possible and use a courteous and professional manner. You are provided with the following facts to help you. Please be verbose and suggestive.\\nWe only sell shoes.\\nOur opening hours are Monday to Friday from 9am to 5pm.\\nWe are located at 123 Main Street, Brighton\\nWe specialise in red shoes but have all colours\\nOur VAT rate is 20 percent and is applicable on all sales\\nWe only accept card payments'}, {'role': 'user', 'content': 'sunday'}]\n",
      "History is:\n",
      "[{'role': 'user', 'metadata': {'title': None, 'id': None, 'parent_id': None, 'duration': None, 'status': None}, 'content': 'sunday', 'options': None}, {'role': 'assistant', 'metadata': {'title': None, 'id': None, 'parent_id': None, 'duration': None, 'status': None}, 'content': 'Thank you for your inquiry! I’d like to inform you that our store operates from Monday to Friday, from 9 am to 5 pm. Unfortunately, we are closed on Sundays. However, if you would like to visit us during our opening hours, we would be delighted to assist you in finding the perfect shoes, particularly in our specialty of red shoes or any other colors you may have in mind! If you have any further questions or need assistance, please feel free to ask. We look forward to welcoming you soon!', 'options': None}]\n",
      "And messages is:\n",
      "[{'role': 'system', 'content': 'You are a helpful assistant for a shoe store. If a user asks a question please be as helpful as possible and use a courteous and professional manner. You are provided with the following facts to help you. Please be verbose and suggestive.\\nWe only sell shoes.\\nOur opening hours are Monday to Friday from 9am to 5pm.\\nWe are located at 123 Main Street, Brighton\\nWe specialise in red shoes but have all colours\\nOur VAT rate is 20 percent and is applicable on all sales\\nWe only accept card payments'}, {'role': 'user', 'metadata': {'title': None, 'id': None, 'parent_id': None, 'duration': None, 'status': None}, 'content': 'sunday', 'options': None}, {'role': 'assistant', 'metadata': {'title': None, 'id': None, 'parent_id': None, 'duration': None, 'status': None}, 'content': 'Thank you for your inquiry! I’d like to inform you that our store operates from Monday to Friday, from 9 am to 5 pm. Unfortunately, we are closed on Sundays. However, if you would like to visit us during our opening hours, we would be delighted to assist you in finding the perfect shoes, particularly in our specialty of red shoes or any other colors you may have in mind! If you have any further questions or need assistance, please feel free to ask. We look forward to welcoming you soon!', 'options': None}, {'role': 'user', 'content': 'green belts'}]\n"
     ]
    }
   ],
   "source": [
    "# We use Gradio for a chat interface\n",
    "\n",
    "gr.ChatInterface(fn=chat, type=\"messages\").launch()"
   ]
  },
  {
   "cell_type": "code",
   "execution_count": null,
   "id": "6dfb9e21-df67-4c2b-b952-5e7e7961b03d",
   "metadata": {},
   "outputs": [],
   "source": []
  }
 ],
 "metadata": {
  "kernelspec": {
   "display_name": "venv",
   "language": "python",
   "name": "python3"
  },
  "language_info": {
   "codemirror_mode": {
    "name": "ipython",
    "version": 3
   },
   "file_extension": ".py",
   "mimetype": "text/x-python",
   "name": "python",
   "nbconvert_exporter": "python",
   "pygments_lexer": "ipython3",
   "version": "3.12.8"
  }
 },
 "nbformat": 4,
 "nbformat_minor": 5
}
