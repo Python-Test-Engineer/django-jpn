{
 "cells": [
  {
   "cell_type": "code",
   "execution_count": 1,
   "id": "70e39cd8-ec79-4e3e-9c26-5659d42d0861",
   "metadata": {},
   "outputs": [
    {
     "name": "stderr",
     "output_type": "stream",
     "text": [
      "c:\\Users\\mrcra\\Desktop\\conf42-ai-agents\\venv\\Lib\\site-packages\\tqdm\\auto.py:21: TqdmWarning: IProgress not found. Please update jupyter and ipywidgets. See https://ipywidgets.readthedocs.io/en/stable/user_install.html\n",
      "  from .autonotebook import tqdm as notebook_tqdm\n"
     ]
    }
   ],
   "source": [
    "import os\n",
    "from dotenv import load_dotenv\n",
    "from openai import OpenAI\n",
    "import gradio as gr"
   ]
  },
  {
   "cell_type": "code",
   "execution_count": 2,
   "id": "231605aa-fccb-447e-89cf-8b187444536a",
   "metadata": {},
   "outputs": [
    {
     "name": "stdout",
     "output_type": "stream",
     "text": [
      "OpenAI API Key exists and begins sk-proj-y-\n"
     ]
    }
   ],
   "source": [
    "# Load environment variables in a file called .env\n",
    "# Print the key prefixes to help with any debugging\n",
    "\n",
    "load_dotenv()\n",
    "openai_api_key = os.getenv(\"OPENAI_API_KEY\")\n",
    "\n",
    "if openai_api_key:\n",
    "    print(f\"OpenAI API Key exists and begins {openai_api_key[:10]}\")\n",
    "else:\n",
    "    print(\"OpenAI API Key not set\")"
   ]
  },
  {
   "cell_type": "code",
   "execution_count": 3,
   "id": "6541d58e-2297-4de1-b1f7-77da1b98b8bb",
   "metadata": {},
   "outputs": [],
   "source": [
    "# Initialize\n",
    "\n",
    "openai = OpenAI()\n",
    "MODEL = \"gpt-4o-mini\""
   ]
  },
  {
   "cell_type": "code",
   "execution_count": 4,
   "id": "1eacc8a4-4b48-4358-9e06-ce0020041bc1",
   "metadata": {},
   "outputs": [],
   "source": [
    "def chat(message, history):\n",
    "    messages = (\n",
    "        [{\"role\": \"system\", \"content\": system_message}]\n",
    "        + history\n",
    "        + [{\"role\": \"user\", \"content\": message}]\n",
    "    )\n",
    "\n",
    "    print(\"History is:\")\n",
    "    print(history)\n",
    "    print(\"And messages is:\")\n",
    "    print(messages)\n",
    "\n",
    "    stream = openai.chat.completions.create(model=MODEL, messages=messages, stream=True)\n",
    "\n",
    "    response = \"\"\n",
    "    for stream_so_far in stream:\n",
    "        response += stream_so_far.choices[0].delta.content or \"\"\n",
    "        yield response"
   ]
  },
  {
   "cell_type": "markdown",
   "id": "57b22ab7",
   "metadata": {},
   "source": [
    "People have suggested that using CAPS or ITALICS in Markdown help with more accurate prompting.\n",
    "\n",
    "Perhaps the LLMs have now seen so many prompts that they have learnt its importance.\n",
    "\n",
    "We can give examples - this is called 'One Shot' or 'Multi Shot' prompting and enables the LLM to learn what we want it to do. It supplements what was in the original training data.\n"
   ]
  },
  {
   "cell_type": "code",
   "execution_count": 5,
   "id": "9524a12b",
   "metadata": {},
   "outputs": [],
   "source": [
    "system_message = \"\"\"\n",
    "You are a report selection agent. \n",
    "\n",
    "You are very good at returning the best report to answer a user's question. \n",
    "\n",
    "For example, if a user wants a joke, you reply with |TOOL: **get_joke**|\n",
    "\n",
    "Another example, if they want a **TOTAL SALES** report then |TOOL: **get_sales**| would be the best report\n",
    "\"\"\""
   ]
  },
  {
   "cell_type": "code",
   "execution_count": 6,
   "id": "11d57e30",
   "metadata": {},
   "outputs": [],
   "source": [
    "REPORTS = [\n",
    "    \"For weather use this tool => **get_weather**.\",\n",
    "    \"For hotel booking use this tool => **get_hotel_booking**.\",\n",
    "    \"For car hire use this tool => **get_car_hire**.\",\n",
    "    \"For flight booking use this tool => **get_flight**.\",\n",
    "    \"For total sales use this tool => **get_sales**.\",\n",
    "    \"For site statistics use this tool => **get_site_statistics**.\",\n",
    "    \"For jokes use this tool => **get_joke**.\",\n",
    "    \"To add two numbers use this tool => **get_adder**.\",\n",
    "    \"To compute loss function => **get_loss**.\",\n",
    "    \"To critique an article prior to publication but not after publication use this tool => **get_article_review**.\",\n",
    "    \"For all other requests use this tool => **customer_service_agent**.\",\n",
    "]\n",
    "\n",
    "\n",
    "system_message += \"\\n\" + \"\\n\".join(REPORTS)"
   ]
  },
  {
   "cell_type": "code",
   "execution_count": 7,
   "id": "413e9e4e-7836-43ac-a0c3-e1ab5ed6b136",
   "metadata": {},
   "outputs": [
    {
     "name": "stdout",
     "output_type": "stream",
     "text": [
      "* Running on local URL:  http://127.0.0.1:7861\n",
      "\n",
      "To create a public link, set `share=True` in `launch()`.\n"
     ]
    },
    {
     "data": {
      "text/html": [
       "<div><iframe src=\"http://127.0.0.1:7861/\" width=\"100%\" height=\"500\" allow=\"autoplay; camera; microphone; clipboard-read; clipboard-write;\" frameborder=\"0\" allowfullscreen></iframe></div>"
      ],
      "text/plain": [
       "<IPython.core.display.HTML object>"
      ]
     },
     "metadata": {},
     "output_type": "display_data"
    },
    {
     "data": {
      "text/plain": []
     },
     "execution_count": 7,
     "metadata": {},
     "output_type": "execute_result"
    },
    {
     "name": "stdout",
     "output_type": "stream",
     "text": [
      "History is:\n",
      "[]\n",
      "And messages is:\n",
      "[{'role': 'system', 'content': \"\\nYou are a report selection agent. \\n\\nYou are very good at returning the best report to answer a user's question. \\n\\nFor example, if a user wants a joke, you reply with |TOOL: **get_joke**|\\n\\nAnother example, if they want a **TOTAL SALES** report then |TOOL: **get_sales**| would be the best report\\n\\nFor weather use this tool => **get_weather**.\\nFor hotel booking use this tool => **get_hotel_booking**.\\nFor car hire use this tool => **get_car_hire**.\\nFor flight booking use this tool => **get_flight**.\\nFor total sales use this tool => **get_sales**.\\nFor site statistics use this tool => **get_site_statistics**.\\nFor jokes use this tool => **get_joke**.\\nTo add two numbers use this tool => **get_adder**.\\nTo compute loss function => **get_loss**.\\nTo critique an article prior to publication but not after publication use this tool => **get_article_review**.\\nFor all other requests use this tool => **customer_service_agent**.\"}, {'role': 'user', 'content': 'plane to rom'}]\n",
      "History is:\n",
      "[{'role': 'user', 'metadata': {'title': None, 'id': None, 'parent_id': None, 'duration': None, 'status': None}, 'content': 'plane to rom', 'options': None}, {'role': 'assistant', 'metadata': {'title': None, 'id': None, 'parent_id': None, 'duration': None, 'status': None}, 'content': '|TOOL: **get_flight**|', 'options': None}]\n",
      "And messages is:\n",
      "[{'role': 'system', 'content': \"\\nYou are a report selection agent. \\n\\nYou are very good at returning the best report to answer a user's question. \\n\\nFor example, if a user wants a joke, you reply with |TOOL: **get_joke**|\\n\\nAnother example, if they want a **TOTAL SALES** report then |TOOL: **get_sales**| would be the best report\\n\\nFor weather use this tool => **get_weather**.\\nFor hotel booking use this tool => **get_hotel_booking**.\\nFor car hire use this tool => **get_car_hire**.\\nFor flight booking use this tool => **get_flight**.\\nFor total sales use this tool => **get_sales**.\\nFor site statistics use this tool => **get_site_statistics**.\\nFor jokes use this tool => **get_joke**.\\nTo add two numbers use this tool => **get_adder**.\\nTo compute loss function => **get_loss**.\\nTo critique an article prior to publication but not after publication use this tool => **get_article_review**.\\nFor all other requests use this tool => **customer_service_agent**.\"}, {'role': 'user', 'metadata': {'title': None, 'id': None, 'parent_id': None, 'duration': None, 'status': None}, 'content': 'plane to rom', 'options': None}, {'role': 'assistant', 'metadata': {'title': None, 'id': None, 'parent_id': None, 'duration': None, 'status': None}, 'content': '|TOOL: **get_flight**|', 'options': None}, {'role': 'user', 'content': 'plane to rome and auto to paris'}]\n"
     ]
    }
   ],
   "source": [
    "gr.ChatInterface(fn=chat, type=\"messages\").launch()"
   ]
  },
  {
   "cell_type": "code",
   "execution_count": null,
   "id": "6dfb9e21-df67-4c2b-b952-5e7e7961b03d",
   "metadata": {},
   "outputs": [],
   "source": []
  }
 ],
 "metadata": {
  "kernelspec": {
   "display_name": "venv",
   "language": "python",
   "name": "python3"
  },
  "language_info": {
   "codemirror_mode": {
    "name": "ipython",
    "version": 3
   },
   "file_extension": ".py",
   "mimetype": "text/x-python",
   "name": "python",
   "nbconvert_exporter": "python",
   "pygments_lexer": "ipython3",
   "version": "3.12.8"
  }
 },
 "nbformat": 4,
 "nbformat_minor": 5
}
