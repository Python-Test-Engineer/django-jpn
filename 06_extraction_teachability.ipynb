{
 "cells": [
  {
   "cell_type": "code",
   "execution_count": 1,
   "id": "de23bb9e-37c5-4377-9a82-d7b6c648eeb6",
   "metadata": {},
   "outputs": [],
   "source": [
    "import os\n",
    "import json\n",
    "from openai import OpenAI\n",
    "from dotenv import load_dotenv\n",
    "from pprint import pprint"
   ]
  },
  {
   "cell_type": "markdown",
   "id": "6a78b8cf",
   "metadata": {},
   "source": []
  },
  {
   "cell_type": "code",
   "execution_count": 2,
   "id": "1179b4c5-cd1f-4131-a876-4c9f3f38d2ba",
   "metadata": {},
   "outputs": [
    {
     "name": "stdout",
     "output_type": "stream",
     "text": [
      "OpenAI API Key exists and begins:sk-proj-TVye\n"
     ]
    }
   ],
   "source": [
    "load_dotenv()\n",
    "openai_api_key = os.getenv(\"OPENAI_API_KEY\")\n",
    "if openai_api_key:\n",
    "    print(f\"OpenAI API Key exists and begins:{openai_api_key[:12]}\")\n",
    "else:\n",
    "    print(\"OpenAI API Key not set\")"
   ]
  },
  {
   "cell_type": "markdown",
   "id": "666d56bb",
   "metadata": {},
   "source": []
  },
  {
   "cell_type": "code",
   "execution_count": 3,
   "id": "797fe7b0-ad43-42d2-acf0-e4f309b112f0",
   "metadata": {},
   "outputs": [],
   "source": [
    "client = OpenAI()"
   ]
  },
  {
   "cell_type": "code",
   "execution_count": 4,
   "id": "bd497f36",
   "metadata": {},
   "outputs": [],
   "source": [
    "MODEL = \"gpt-4o-mini\""
   ]
  },
  {
   "cell_type": "code",
   "execution_count": 5,
   "id": "6f5989eb",
   "metadata": {},
   "outputs": [
    {
     "name": "stdout",
     "output_type": "stream",
     "text": [
      "MODEL: gpt-4o-mini\n"
     ]
    }
   ],
   "source": [
    "print(f\"MODEL: {MODEL}\")"
   ]
  },
  {
   "cell_type": "code",
   "execution_count": 6,
   "id": "60a4d209",
   "metadata": {},
   "outputs": [],
   "source": [
    "source_data = \"\"\"\n",
    "Peter is a vegan and won't eat any meat. He has been a vegan for over five years when he met his current wife Angela. They have two dogs, Roxy and Petra, and they both eat meat.\n",
    "\n",
    "They both work in London but live in Brighton near Seven Dials.\n",
    "\n",
    "They travel a lot and have visited the following countries in the last year - Italy, France and Germany.\n",
    "\n",
    "They have an active YouTube channel where they post videos about their travels.\n",
    "\n",
    "They have a cat named Marmalade.\n",
    "\n",
    "Brighton is based on the South Coast of England and is known for its beaches and nightlife.\n",
    "\n",
    "Brighton is about 50 miles south of London.\n",
    "\"\"\""
   ]
  },
  {
   "cell_type": "code",
   "execution_count": 7,
   "id": "378a0296-59a2-45c6-82eb-941344d3eeff",
   "metadata": {},
   "outputs": [],
   "source": [
    "system_message = \"\"\"You are a teachability agent. You examine a conversation listed between <conv> and </conv> and output a list of pertinent facts as well as a concise summary. The OUTPUT FORMAT *must have* in the following JSON FORMAT:\n",
    "\n",
    "{\n",
    "    \"summary\": <SUMMARY>,\n",
    "    \"number_of_facts\": <NUMBER_OF_FACTS>,\n",
    "    \"facts\": [<FACTS>]\n",
    "}\n",
    "\n",
    "A fact is a dictionary with the following keys: \"fact\" and \"catgerory\".\n",
    "\n",
    "Here are some examples of facts:\n",
    "\n",
    "{\"fact\": \"Charles is a vegan and won't eat any meat.\", \"category\": \"personal\"}\n",
    "{\"fact\": \"Charles works in Brighton\", \"category\": \"work\"}\n",
    "{\"fact\": \"They have four dogs\", \"category\": \"pets\"}\n",
    "\n",
    "## NOT A FACT\n",
    "This is not a fact as it does not refer to a person:\n",
    "\"London is a city and the capital of England\"\n",
    "\n",
    "## NUMBER_OF_FACTS\n",
    "<NUMBER_OF_FACTS> stores the number of facts in the \"facts\" list\n",
    "*Be as specific as you can about the categories*\n",
    "\"\"\""
   ]
  },
  {
   "cell_type": "code",
   "execution_count": 8,
   "id": "5ada182c",
   "metadata": {},
   "outputs": [],
   "source": [
    "data = \"\"\"Peter is a vegan and won't eat any meat. He has been a vegan for over five years when he met his current wife Angela. They have two dogs, Roxy and Petra, and they both eat meat.\n",
    "\n",
    "They both work in London but live in Brighton near Seven Dials.\n",
    "\n",
    "They travel a lot and have visited the following countries in the last year - Italy, France and Germany.\n",
    "\n",
    "They have an active YouTube channel where they post videos about their travels.\n",
    "\n",
    "They have a cat named Marmalade.\n",
    "\n",
    "Brighton is based on the South Coast of England and is known for its beaches and nightlife.\"\"\""
   ]
  },
  {
   "cell_type": "code",
   "execution_count": 9,
   "id": "7a35028c",
   "metadata": {},
   "outputs": [],
   "source": [
    "system_message += \"<conv>\" + data + \"</conv>\""
   ]
  },
  {
   "cell_type": "code",
   "execution_count": 10,
   "id": "f4d56a0f-2a3d-484d-9344-0efa6862aff4",
   "metadata": {},
   "outputs": [],
   "source": [
    "prompts = [\n",
    "    {\"role\": \"system\", \"content\": system_message},\n",
    "    {\"role\": \"user\", \"content\": \"\"},\n",
    "]"
   ]
  },
  {
   "cell_type": "code",
   "execution_count": 11,
   "id": "3b3879b6-9a55-4fed-a18c-1ea2edfaf397",
   "metadata": {},
   "outputs": [],
   "source": [
    "response = client.chat.completions.create(model=MODEL, messages=prompts, temperature=0)\n",
    "res = response.choices[0].message.content.replace(\"\\n\", \"\")"
   ]
  },
  {
   "cell_type": "code",
   "execution_count": 12,
   "id": "7365da99",
   "metadata": {},
   "outputs": [],
   "source": [
    "output = json.loads(res)"
   ]
  },
  {
   "cell_type": "markdown",
   "id": "61dbc784",
   "metadata": {},
   "source": [
    "Having extracted information, we can store this in 'short term memory' - app level cache - or long term menory - stored in a DB for example and retrieved as needed and added to the SYSTEM MESSAGE."
   ]
  },
  {
   "cell_type": "code",
   "execution_count": 13,
   "id": "8442dc5d",
   "metadata": {},
   "outputs": [
    {
     "name": "stdout",
     "output_type": "stream",
     "text": [
      "{'facts': [{'category': 'personal',\n",
      "            'fact': \"Peter is a vegan and won't eat any meat.\"},\n",
      "           {'category': 'personal',\n",
      "            'fact': 'Peter has been a vegan for over five years.'},\n",
      "           {'category': 'personal', 'fact': 'Peter is married to Angela.'},\n",
      "           {'category': 'pets',\n",
      "            'fact': 'They have two dogs named Roxy and Petra.'},\n",
      "           {'category': 'pets', 'fact': 'They have a cat named Marmalade.'},\n",
      "           {'category': 'work', 'fact': 'They both work in London.'},\n",
      "           {'category': 'location',\n",
      "            'fact': 'They live in Brighton near Seven Dials.'},\n",
      "           {'category': 'travel',\n",
      "            'fact': 'They have visited Italy, France, and Germany in the last '\n",
      "                    'year.'}],\n",
      " 'number_of_facts': 8,\n",
      " 'summary': 'Peter is a vegan who has been so for over five years. He lives in '\n",
      "            'Brighton with his wife Angela, and they have two dogs and a cat. '\n",
      "            'They both work in London and travel frequently, having visited '\n",
      "            'Italy, France, and Germany in the past year. They also run an '\n",
      "            'active YouTube channel focused on their travels.'}\n"
     ]
    }
   ],
   "source": [
    "pprint(output)"
   ]
  },
  {
   "cell_type": "code",
   "execution_count": 14,
   "id": "26b0b273",
   "metadata": {},
   "outputs": [
    {
     "name": "stdout",
     "output_type": "stream",
     "text": [
      "('Peter is a vegan who has been so for over five years. He lives in Brighton '\n",
      " 'with his wife Angela, and they have two dogs and a cat. They both work in '\n",
      " 'London and travel frequently, having visited Italy, France, and Germany in '\n",
      " 'the past year. They also run an active YouTube channel focused on their '\n",
      " 'travels.')\n",
      "[{'category': 'personal', 'fact': \"Peter is a vegan and won't eat any meat.\"},\n",
      " {'category': 'personal',\n",
      "  'fact': 'Peter has been a vegan for over five years.'},\n",
      " {'category': 'personal', 'fact': 'Peter is married to Angela.'},\n",
      " {'category': 'pets', 'fact': 'They have two dogs named Roxy and Petra.'},\n",
      " {'category': 'pets', 'fact': 'They have a cat named Marmalade.'},\n",
      " {'category': 'work', 'fact': 'They both work in London.'},\n",
      " {'category': 'location', 'fact': 'They live in Brighton near Seven Dials.'},\n",
      " {'category': 'travel',\n",
      "  'fact': 'They have visited Italy, France, and Germany in the last year.'}]\n"
     ]
    }
   ],
   "source": [
    "pprint(output[\"summary\"])\n",
    "pprint(output[\"facts\"])"
   ]
  }
 ],
 "metadata": {
  "kernelspec": {
   "display_name": "venv",
   "language": "python",
   "name": "python3"
  },
  "language_info": {
   "codemirror_mode": {
    "name": "ipython",
    "version": 3
   },
   "file_extension": ".py",
   "mimetype": "text/x-python",
   "name": "python",
   "nbconvert_exporter": "python",
   "pygments_lexer": "ipython3",
   "version": "3.12.9"
  }
 },
 "nbformat": 4,
 "nbformat_minor": 5
}
