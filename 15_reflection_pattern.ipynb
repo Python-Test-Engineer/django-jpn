{
 "cells": [
  {
   "cell_type": "markdown",
   "id": "514b9aab",
   "metadata": {},
   "source": [
    "<img src=\"./ESSENCE.png\" width=700px>"
   ]
  },
  {
   "cell_type": "markdown",
   "id": "73f4d7b7-40bf-43b9-a626-2a11d5529ac8",
   "metadata": {},
   "source": [
    "### Reflection pattern\n",
    "\n",
    "## input -> function(input) -> output -> function(output) -> output2\n",
    "\n",
    "## Generate code -> Refine code\n",
    "\n",
    "We generate a response with our first query using a system prompt to create code.\n",
    "\n",
    "We then pass the output into another function that acts as a reviewer to produce the next version of the code.\n",
    "\n",
    "This can be repeated until we reach certain criteria or MAX_ITERATIONS, whichever comes first.\n",
    "\n",
    "Each query is as if it was the first query with more information contained within it as each request is stateless.\n"
   ]
  },
  {
   "cell_type": "code",
   "execution_count": 1,
   "id": "96731d2f-a079-4e41-9756-220f02d4ebd8",
   "metadata": {},
   "outputs": [],
   "source": [
    "import os\n",
    "from openai import OpenAI\n",
    "from dotenv import load_dotenv\n",
    "from IPython.display import display_markdown"
   ]
  },
  {
   "cell_type": "code",
   "execution_count": 2,
   "id": "9729eaf7",
   "metadata": {},
   "outputs": [],
   "source": [
    "client = OpenAI()\n",
    "MODEL = \"gpt-4o-mini\""
   ]
  },
  {
   "cell_type": "code",
   "execution_count": 3,
   "id": "ed931fde",
   "metadata": {},
   "outputs": [
    {
     "name": "stdout",
     "output_type": "stream",
     "text": [
      "OpenAI API Key exists and begins sk-proj-TV\n"
     ]
    }
   ],
   "source": [
    "# Load environment variables in a file called .env\n",
    "# Print the key prefixes to help with any debugging\n",
    "\n",
    "load_dotenv()\n",
    "openai_api_key = os.getenv(\"OPENAI_API_KEY\")\n",
    "\n",
    "\n",
    "if openai_api_key:\n",
    "    print(f\"OpenAI API Key exists and begins {openai_api_key[:10]}\")\n",
    "else:\n",
    "    print(\"OpenAI API Key not set\")"
   ]
  },
  {
   "cell_type": "markdown",
   "id": "e644a635-e035-44e2-8c25-cee0f2b56556",
   "metadata": {},
   "source": [
    "We will start the **\"generation\"** chat history with the system prompt, as we said before. In this case, let the LLM act like a Python\n",
    "programmer eager to receive feedback / critique by the user.\n"
   ]
  },
  {
   "cell_type": "code",
   "execution_count": 4,
   "id": "12467256-c741-495a-9923-439c1fcf270d",
   "metadata": {},
   "outputs": [],
   "source": [
    "content = \"\"\"\n",
    "You are a Python programmer tasked with generating high quality Python code. Your task is to Generate the best content possible for the user's request. If the user requests critique, respond with a revised version of your previous attempt.\n",
    "\"\"\"\n",
    "\n",
    "generation_chat_history = [{\"role\": \"system\", \"content\": content}]"
   ]
  },
  {
   "cell_type": "markdown",
   "id": "43149b4f-54db-455f-9d39-6ad2f5c52b94",
   "metadata": {},
   "source": [
    "Now, as the user, we are going to ask the LLM to generate an implementation of the Requests library\n"
   ]
  },
  {
   "cell_type": "code",
   "execution_count": 5,
   "id": "0742e7bd-4857-4ed1-a96b-37098d448bdd",
   "metadata": {},
   "outputs": [],
   "source": [
    "generation_chat_history.append(\n",
    "    {\n",
    "        \"role\": \"user\",\n",
    "        \"content\": \"Generate a Python implementation of requesting an API with the Requests library\",\n",
    "    }\n",
    ")"
   ]
  },
  {
   "cell_type": "markdown",
   "id": "4df1bffe-375f-4a9a-8433-e217eb94aea2",
   "metadata": {},
   "source": [
    "Let's generate the first version of the essay.\n"
   ]
  },
  {
   "cell_type": "code",
   "execution_count": 6,
   "id": "ff984277-733c-4495-b7fd-0669393380b8",
   "metadata": {},
   "outputs": [],
   "source": [
    "user_code = (\n",
    "    client.chat.completions.create(messages=generation_chat_history, model=MODEL)\n",
    "    .choices[0]\n",
    "    .message.content\n",
    ")\n",
    "\n",
    "\n",
    "generation_chat_history.append({\"role\": \"assistant\", \"content\": user_code})"
   ]
  },
  {
   "cell_type": "code",
   "execution_count": 7,
   "id": "c03f208b-2234-4fd1-a02b-f4fff06c01a6",
   "metadata": {},
   "outputs": [
    {
     "data": {
      "text/markdown": [
       "Certainly! Below is a comprehensive implementation of requesting an API using the `requests` library in Python. This example demonstrates how to make a GET request, handle the response, and manage potential errors.\n",
       "\n",
       "```python\n",
       "import requests\n",
       "\n",
       "def fetch_data_from_api(url):\n",
       "    \"\"\"\n",
       "    Fetch data from the provided API URL.\n",
       "\n",
       "    Parameters:\n",
       "    url (str): The API endpoint to fetch data from.\n",
       "\n",
       "    Returns:\n",
       "    dict: The JSON response from the API if the request was successful.\n",
       "    None: If there was an error in the request.\n",
       "    \"\"\"\n",
       "    try:\n",
       "        # Make a GET request to the API\n",
       "        response = requests.get(url)\n",
       "\n",
       "        # Raise an exception for HTTP errors\n",
       "        response.raise_for_status()\n",
       "\n",
       "        # Parse the JSON response\n",
       "        data = response.json()\n",
       "        return data\n",
       "\n",
       "    except requests.exceptions.HTTPError as http_err:\n",
       "        print(f\"HTTP error occurred: {http_err}\")  # Log HTTP errors\n",
       "    except requests.exceptions.ConnectionError as conn_err:\n",
       "        print(f\"Connection error occurred: {conn_err}\")  # Handle connection errors\n",
       "    except requests.exceptions.Timeout as timeout_err:\n",
       "        print(f\"Timeout error occurred: {timeout_err}\")  # Handle timeout errors\n",
       "    except requests.exceptions.RequestException as req_err:\n",
       "        print(f\"An error occurred: {req_err}\")  # Handle all other requests issues\n",
       "\n",
       "    return None\n",
       "\n",
       "if __name__ == \"__main__\":\n",
       "    # Example usage\n",
       "    api_url = \"https://api.example.com/data\"  # Replace with your actual API URL\n",
       "    result = fetch_data_from_api(api_url)\n",
       "\n",
       "    if result:\n",
       "        print(\"Data fetched successfully:\")\n",
       "        print(result)\n",
       "    else:\n",
       "        print(\"Failed to fetch data from the API.\")\n",
       "```\n",
       "\n",
       "### Explanation:\n",
       "- The `fetch_data_from_api` function takes a URL as its parameter and attempts to fetch data from the API.\n",
       "- The `requests.get` function is used to send the GET request.\n",
       "- It checks for HTTP errors using `raise_for_status()`, which raises an exception for any HTTP errors encountered.\n",
       "- Various exceptions are caught and logged to provide feedback on what went wrong during the request.\n",
       "- If the request is successful and the response is JSON, it is returned as a dictionary.\n",
       "- The main block demonstrates how to use the function to retrieve data from the specified API URL. \n",
       "\n",
       "Make sure you have the `requests` library installed in your Python environment. You can install it via pip if you haven't done so already:\n",
       "\n",
       "```bash\n",
       "pip install requests\n",
       "``` \n",
       "\n",
       "This should give you a solid foundation for making API requests using Python."
      ]
     },
     "metadata": {},
     "output_type": "display_data"
    }
   ],
   "source": [
    "display_markdown(user_code, raw=True)"
   ]
  },
  {
   "cell_type": "markdown",
   "id": "6a04ebe5-0573-4520-a529-aff22d486b7d",
   "metadata": {},
   "source": [
    "## Reflection Step\n"
   ]
  },
  {
   "cell_type": "markdown",
   "id": "020433f1",
   "metadata": {},
   "source": [
    "This is equivalent to asking a follow up question in say ChatGPT and we change the system prompt or what we want it to do along with the output from the previous query.\n"
   ]
  },
  {
   "cell_type": "code",
   "execution_count": 8,
   "id": "9d93c928-d585-48af-a74c-a5b8d84593c6",
   "metadata": {
    "tags": []
   },
   "outputs": [],
   "source": [
    "reflection_chat_history = [\n",
    "    {\n",
    "        \"role\": \"system\",\n",
    "        \"content\": \"You are an experienced and talented Pythonista. You are tasked with generating critique and recommendations for the user's code\",\n",
    "    }\n",
    "]"
   ]
  },
  {
   "cell_type": "code",
   "execution_count": 9,
   "id": "26af1a73-4d91-40e8-a9bc-c34d32b2ab82",
   "metadata": {
    "tags": []
   },
   "outputs": [],
   "source": [
    "# We add new messages to the list of messages so that the LLM has context and knowledge of what proceeded.\n",
    "\n",
    "# LLM calls are stateless and previous messages are not stored with the LLM. This is an important fact as we do not want to go over the context window for the LLM or incur unwanted costs if applicable.\n",
    "\n",
    "reflection_chat_history.append({\"role\": \"user\", \"content\": user_code})"
   ]
  },
  {
   "cell_type": "markdown",
   "id": "bfa994c8-3612-47b0-9571-e21d0d73d896",
   "metadata": {},
   "source": [
    "CRITIQUE TIME\n"
   ]
  },
  {
   "cell_type": "markdown",
   "id": "a628b75c",
   "metadata": {},
   "source": [
    "Now that we have the context and the request for a critique, we make a request to the LLM.\n"
   ]
  },
  {
   "cell_type": "code",
   "execution_count": 10,
   "id": "40fee42f-d47a-41b1-a40d-7208ba76ce98",
   "metadata": {
    "tags": []
   },
   "outputs": [],
   "source": [
    "critique = (\n",
    "    client.chat.completions.create(messages=reflection_chat_history, model=MODEL)\n",
    "    .choices[0]\n",
    "    .message.content\n",
    ")"
   ]
  },
  {
   "cell_type": "code",
   "execution_count": 11,
   "id": "0fef3203-c7f1-407f-8b9b-4e8ae140a4cb",
   "metadata": {
    "tags": []
   },
   "outputs": [
    {
     "data": {
      "text/markdown": [
       "Your implementation of querying an API using the `requests` library is clear and serves its purpose well. Below are some critiques and recommendations to enhance your code quality, including error handling and overall best practices:\n",
       "\n",
       "### Critiques and Recommendations\n",
       "\n",
       "1. **Logging Mechanism**:\n",
       "   - Currently, you're using print statements for error logging. It's recommended to use the logging module for more flexibility and configurability.\n",
       "   ```python\n",
       "   import logging\n",
       "\n",
       "   logging.basicConfig(level=logging.ERROR)\n",
       "   ```\n",
       "\n",
       "   Replace the print statements with:\n",
       "   ```python\n",
       "   logging.error(f\"HTTP error occurred: {http_err}\")\n",
       "   ```\n",
       "\n",
       "2. **Function Return Type**:\n",
       "   - Your function is expected to return `None` on failure and a dictionary on success. While this is common, it's a good practice to make this explicit in the function’s docstring by indicating the return type more clearly.\n",
       "\n",
       "3. **Timeouts**:\n",
       "   - Add a timeout parameter to your request to prevent hanging indefinitely if the API does not respond. A typical timeout can be around 5 seconds, but this can depend on your specific needs.\n",
       "   ```python\n",
       "   response = requests.get(url, timeout=5)\n",
       "   ```\n",
       "\n",
       "4. **Input Validation**:\n",
       "   - You might want to check if the URL provided is valid before making the request. This could prevent unnecessary exceptions while attempting to connect to an invalid URL.\n",
       "   ```python\n",
       "   from urllib.parse import urlparse\n",
       "\n",
       "   def validate_url(url):\n",
       "       parsed = urlparse(url)\n",
       "       return bool(parsed.scheme) and bool(parsed.netloc)\n",
       "   ```\n",
       "\n",
       "   In `fetch_data_from_api`, you can use this function to check the validity:\n",
       "   ```python\n",
       "   if not validate_url(url):\n",
       "       logging.error(\"Invalid URL provided.\")\n",
       "       return None\n",
       "   ```\n",
       "\n",
       "5. **HTTP Method Support**:\n",
       "   - `fetch_data_from_api` currently only supports GET requests. Consider making the function flexible to support other HTTP methods (e.g., POST, PUT, DELETE), which would make it more versatile.\n",
       "   ```python\n",
       "   def fetch_data_from_api(url, method='GET', data=None):\n",
       "       # Use method variable to switch between request types\n",
       "   ```\n",
       "\n",
       "6. **Response Handling**:\n",
       "   - You might want to consider handling cases where the API returns a non-200 status code but still provides useful information in the response body. This can be important for APIs that utilize non-standard response codes (like 429 for rate limiting).\n",
       "\n",
       "7. **Improved User Feedback**:\n",
       "   - When the main block does not receive data, it simply prints a failure message. It could be more informative by providing the error message as well, which would help in debugging.\n",
       "\n",
       "8. **Type Annotations**:\n",
       "   - You could enhance readability with type annotations in your function signature:\n",
       "   ```python\n",
       "   def fetch_data_from_api(url: str) -> dict:\n",
       "   ```\n",
       "\n",
       "### Revised Code Example\n",
       "Here is an updated version considering some of the recommendations:\n",
       "\n",
       "```python\n",
       "import requests\n",
       "import logging\n",
       "from urllib.parse import urlparse\n",
       "\n",
       "logging.basicConfig(level=logging.ERROR)\n",
       "\n",
       "def validate_url(url: str) -> bool:\n",
       "    parsed = urlparse(url)\n",
       "    return bool(parsed.scheme) and bool(parsed.netloc)\n",
       "\n",
       "def fetch_data_from_api(url: str) -> dict:\n",
       "    \"\"\"\n",
       "    Fetch data from the provided API URL.\n",
       "\n",
       "    Parameters:\n",
       "    url (str): The API endpoint to fetch data from.\n",
       "\n",
       "    Returns:\n",
       "    dict: The JSON response from the API if the request was successful.\n",
       "    None: If there was an error in the request.\n",
       "    \"\"\"\n",
       "    if not validate_url(url):\n",
       "        logging.error(\"Invalid URL provided.\")\n",
       "        return None\n",
       "\n",
       "    try:\n",
       "        response = requests.get(url, timeout=5)\n",
       "        response.raise_for_status()\n",
       "        return response.json()\n",
       "\n",
       "    except requests.exceptions.HTTPError as http_err:\n",
       "        logging.error(f\"HTTP error occurred: {http_err}\")\n",
       "    except requests.exceptions.ConnectionError as conn_err:\n",
       "        logging.error(f\"Connection error occurred: {conn_err}\")\n",
       "    except requests.exceptions.Timeout as timeout_err:\n",
       "        logging.error(f\"Timeout error occurred: {timeout_err}\")\n",
       "    except requests.exceptions.RequestException as req_err:\n",
       "        logging.error(f\"An error occurred: {req_err}\")\n",
       "\n",
       "    return None\n",
       "\n",
       "if __name__ == \"__main__\":\n",
       "    api_url = \"https://api.example.com/data\"  # Replace with your actual API URL\n",
       "    result = fetch_data_from_api(api_url)\n",
       "\n",
       "    if result:\n",
       "        print(\"Data fetched successfully:\")\n",
       "        print(result)\n",
       "    else:\n",
       "        print(\"Failed to fetch data from the API.\")\n",
       "```\n",
       "\n",
       "By implementing these suggestions, you will improve the robustness, flexibility, and maintainability of your API fetching code significantly."
      ]
     },
     "metadata": {},
     "output_type": "display_data"
    }
   ],
   "source": [
    "# Display\n",
    "\n",
    "display_markdown(critique, raw=True)"
   ]
  },
  {
   "cell_type": "markdown",
   "id": "5df433b0-d662-4378-895e-6b09dd3201bc",
   "metadata": {},
   "source": [
    "Add CRITIQUE to chat...\n"
   ]
  },
  {
   "cell_type": "code",
   "execution_count": 12,
   "id": "27a85bb3-cf6a-4576-8caf-cd41e602a1f1",
   "metadata": {
    "tags": []
   },
   "outputs": [],
   "source": [
    "generation_chat_history.append({\"role\": \"user\", \"content\": critique})"
   ]
  },
  {
   "cell_type": "markdown",
   "id": "c3c1aefa-8454-41ab-af40-2675f340a577",
   "metadata": {},
   "source": [
    "Response to CRITIQUE\n"
   ]
  },
  {
   "cell_type": "code",
   "execution_count": 13,
   "id": "91d845cf-51c3-4cfd-b6a7-1b970413f6db",
   "metadata": {
    "tags": []
   },
   "outputs": [],
   "source": [
    "essay = (\n",
    "    client.chat.completions.create(messages=generation_chat_history, model=MODEL)\n",
    "    .choices[0]\n",
    "    .message.content\n",
    ")"
   ]
  },
  {
   "cell_type": "code",
   "execution_count": 14,
   "id": "ef14eaa8-f501-4efc-997f-8564ec8dccd8",
   "metadata": {
    "tags": []
   },
   "outputs": [
    {
     "data": {
      "text/markdown": [
       "Thank you for your detailed critique and recommendations! Based on your feedback, I've revised the code to enhance its functionality, error handling, and overall best practices. Below is the updated implementation:\n",
       "\n",
       "```python\n",
       "import requests\n",
       "import logging\n",
       "from urllib.parse import urlparse\n",
       "\n",
       "# Configure logging settings\n",
       "logging.basicConfig(level=logging.ERROR)\n",
       "\n",
       "def validate_url(url: str) -> bool:\n",
       "    \"\"\"\n",
       "    Validate the provided URL.\n",
       "\n",
       "    Parameters:\n",
       "    url (str): The URL to validate.\n",
       "\n",
       "    Returns:\n",
       "    bool: True if the URL is valid, False otherwise.\n",
       "    \"\"\"\n",
       "    parsed = urlparse(url)\n",
       "    return bool(parsed.scheme) and bool(parsed.netloc)\n",
       "\n",
       "def fetch_data_from_api(url: str, method: str = 'GET', data: dict = None) -> dict:\n",
       "    \"\"\"\n",
       "    Fetch data from the provided API URL.\n",
       "\n",
       "    Parameters:\n",
       "    url (str): The API endpoint to fetch data from.\n",
       "    method (str): The HTTP method to use (default is GET).\n",
       "    data (dict): The data to send with the request (for POST, PUT).\n",
       "\n",
       "    Returns:\n",
       "    dict: The JSON response from the API if the request was successful.\n",
       "    None: If there was an error in the request.\n",
       "    \"\"\"\n",
       "    if not validate_url(url):\n",
       "        logging.error(\"Invalid URL provided.\")\n",
       "        return None\n",
       "\n",
       "    try:\n",
       "        if method.upper() == 'POST':\n",
       "            response = requests.post(url, json=data, timeout=5)\n",
       "        else:  # Default to GET request\n",
       "            response = requests.get(url, timeout=5)\n",
       "        \n",
       "        response.raise_for_status()  # Check for HTTP errors\n",
       "        \n",
       "        # Handle cases where the response is not a successful status\n",
       "        return response.json() if response.status_code < 400 else None\n",
       "\n",
       "    except requests.exceptions.HTTPError as http_err:\n",
       "        logging.error(f\"HTTP error occurred: {http_err}\")\n",
       "    except requests.exceptions.ConnectionError as conn_err:\n",
       "        logging.error(f\"Connection error occurred: {conn_err}\")\n",
       "    except requests.exceptions.Timeout as timeout_err:\n",
       "        logging.error(f\"Timeout error occurred: {timeout_err}\")\n",
       "    except requests.exceptions.RequestException as req_err:\n",
       "        logging.error(f\"An error occurred: {req_err}\")\n",
       "\n",
       "    return None\n",
       "\n",
       "if __name__ == \"__main__\":\n",
       "    api_url = \"https://api.example.com/data\"  # Replace with your actual API URL\n",
       "    result = fetch_data_from_api(api_url)\n",
       "\n",
       "    if result:\n",
       "        print(\"Data fetched successfully:\")\n",
       "        print(result)\n",
       "    else:\n",
       "        print(\"Failed to fetch data from the API, check the logs for details.\")\n",
       "```\n",
       "\n",
       "### Improvements Made:\n",
       "1. **Logging**: Replaced print statements with the `logging` module for better logging management.\n",
       "2. **Function Signature**: Added a method parameter to support different HTTP methods, defaulting to GET.\n",
       "3. **Input Validation**: Added URL validation before making requests to ensure proper URL format.\n",
       "4. **Response Handling**: Enhanced the function to return `None` when HTTP status codes are not successful, while still providing error information via logging.\n",
       "5. **Documentation**: Updated docstrings for clarity and added type hints for improved code readability.\n",
       "\n",
       "These changes enhance the versatility, robustness, and maintainability of the code. Thank you again for your useful suggestions!"
      ]
     },
     "metadata": {},
     "output_type": "display_data"
    }
   ],
   "source": [
    "# Diaply user response to CRITIQUE\n",
    "display_markdown(essay, raw=True)"
   ]
  },
  {
   "cell_type": "markdown",
   "id": "75883af2-f31d-4c24-b1ff-315a0711f9fa",
   "metadata": {},
   "source": [
    "<br>\n",
    "\n",
    "### We can of course make this a Class...\n"
   ]
  }
 ],
 "metadata": {
  "kernelspec": {
   "display_name": "venv",
   "language": "python",
   "name": "python3"
  },
  "language_info": {
   "codemirror_mode": {
    "name": "ipython",
    "version": 3
   },
   "file_extension": ".py",
   "mimetype": "text/x-python",
   "name": "python",
   "nbconvert_exporter": "python",
   "pygments_lexer": "ipython3",
   "version": "3.12.9"
  }
 },
 "nbformat": 4,
 "nbformat_minor": 5
}
