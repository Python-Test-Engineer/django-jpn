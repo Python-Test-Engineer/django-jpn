{
 "cells": [
  {
   "cell_type": "markdown",
   "id": "514b9aab",
   "metadata": {},
   "source": [
    "<img src=\"./ESSENCE.png\" width=700px>"
   ]
  },
  {
   "cell_type": "markdown",
   "id": "73f4d7b7-40bf-43b9-a626-2a11d5529ac8",
   "metadata": {},
   "source": [
    "### Reflection pattern\n",
    "\n",
    "We generate a response with our first query and then add this content to the request for a critique or further refinement.\n",
    "\n",
    "The first request may be a standard request as in this case to generate some Python Code and the system prompt reflects this.\n",
    "\n",
    "Then with the returned content, we create a second request with the content included, (RAG), with some instruction to critique it or refine it.\n",
    "\n",
    "This can be repeated until we reach certain criteria or MAX_ITERATIONS, whichever comes first.\n",
    "\n",
    "Each query is as if it was the first query with more information contained within it as each request is stateless.\n"
   ]
  },
  {
   "cell_type": "code",
   "execution_count": 1,
   "id": "96731d2f-a079-4e41-9756-220f02d4ebd8",
   "metadata": {},
   "outputs": [],
   "source": [
    "import os\n",
    "from openai import OpenAI\n",
    "from dotenv import load_dotenv\n",
    "from IPython.display import display_markdown"
   ]
  },
  {
   "cell_type": "code",
   "execution_count": 2,
   "id": "9729eaf7",
   "metadata": {},
   "outputs": [],
   "source": [
    "client = OpenAI()\n",
    "MODEL = \"gpt-4o-mini\""
   ]
  },
  {
   "cell_type": "code",
   "execution_count": 3,
   "id": "ed931fde",
   "metadata": {},
   "outputs": [
    {
     "name": "stdout",
     "output_type": "stream",
     "text": [
      "OpenAI API Key exists and begins sk-proj-TV\n"
     ]
    }
   ],
   "source": [
    "# Load environment variables in a file called .env\n",
    "# Print the key prefixes to help with any debugging\n",
    "\n",
    "load_dotenv()\n",
    "openai_api_key = os.getenv(\"OPENAI_API_KEY\")\n",
    "\n",
    "\n",
    "if openai_api_key:\n",
    "    print(f\"OpenAI API Key exists and begins {openai_api_key[:10]}\")\n",
    "else:\n",
    "    print(\"OpenAI API Key not set\")"
   ]
  },
  {
   "cell_type": "markdown",
   "id": "e644a635-e035-44e2-8c25-cee0f2b56556",
   "metadata": {},
   "source": [
    "We will start the **\"generation\"** chat history with the system prompt, as we said before. In this case, let the LLM act like a Python\n",
    "programmer eager to receive feedback / critique by the user.\n"
   ]
  },
  {
   "cell_type": "code",
   "execution_count": 4,
   "id": "12467256-c741-495a-9923-439c1fcf270d",
   "metadata": {},
   "outputs": [],
   "source": [
    "content = \"\"\"\n",
    "You are a Python programmer tasked with generating high quality Python code. Your task is to Generate the best content possible for the user's request. If the user requests critique, respond with a revised version of your previous attempt.\n",
    "\"\"\"\n",
    "\n",
    "generation_chat_history = [{\"role\": \"system\", \"content\": content}]"
   ]
  },
  {
   "cell_type": "markdown",
   "id": "43149b4f-54db-455f-9d39-6ad2f5c52b94",
   "metadata": {},
   "source": [
    "Now, as the user, we are going to ask the LLM to generate an implementation of the Requests library\n"
   ]
  },
  {
   "cell_type": "code",
   "execution_count": 5,
   "id": "0742e7bd-4857-4ed1-a96b-37098d448bdd",
   "metadata": {},
   "outputs": [],
   "source": [
    "generation_chat_history.append(\n",
    "    {\n",
    "        \"role\": \"user\",\n",
    "        \"content\": \"Generate a Python implementation of requesting an API with the Requests library\",\n",
    "    }\n",
    ")"
   ]
  },
  {
   "cell_type": "markdown",
   "id": "4df1bffe-375f-4a9a-8433-e217eb94aea2",
   "metadata": {},
   "source": [
    "Let's generate the first version of the essay.\n"
   ]
  },
  {
   "cell_type": "code",
   "execution_count": 6,
   "id": "ff984277-733c-4495-b7fd-0669393380b8",
   "metadata": {},
   "outputs": [],
   "source": [
    "user_code = (\n",
    "    client.chat.completions.create(messages=generation_chat_history, model=MODEL)\n",
    "    .choices[0]\n",
    "    .message.content\n",
    ")\n",
    "\n",
    "\n",
    "generation_chat_history.append({\"role\": \"assistant\", \"content\": user_code})"
   ]
  },
  {
   "cell_type": "code",
   "execution_count": 7,
   "id": "c03f208b-2234-4fd1-a02b-f4fff06c01a6",
   "metadata": {},
   "outputs": [
    {
     "data": {
      "text/markdown": [
       "Certainly! Below is a Python implementation that demonstrates how to request data from an API using the `requests` library. The example shows how to make a GET request, handle the response, and check for errors.\n",
       "\n",
       "```python\n",
       "import requests\n",
       "\n",
       "def fetch_data_from_api(url, params=None):\n",
       "    \"\"\"\n",
       "    Fetch data from a given API URL.\n",
       "    \n",
       "    :param url: The API endpoint to request data from.\n",
       "    :param params: Optional query parameters to include in the request.\n",
       "    :return: JSON response as a dictionary if successful, or None if failed.\n",
       "    \"\"\"\n",
       "    try:\n",
       "        response = requests.get(url, params=params)\n",
       "        \n",
       "        # Check if the request was successful\n",
       "        response.raise_for_status()  # Raises an HTTPError for bad responses (4xx and 5xx)\n",
       "        \n",
       "        # Parse JSON response\n",
       "        return response.json()\n",
       "        \n",
       "    except requests.RequestException as e:\n",
       "        print(f\"An error occurred: {e}\")\n",
       "        return None\n",
       "\n",
       "if __name__ == \"__main__\":\n",
       "    # Example usage\n",
       "    api_url = \"https://jsonplaceholder.typicode.com/posts\"\n",
       "    # Optional parameters, e.g., to filter results\n",
       "    params = {'userId': 1}\n",
       "    \n",
       "    data = fetch_data_from_api(api_url, params)\n",
       "    \n",
       "    if data:\n",
       "        print(\"Fetched Data:\")\n",
       "        for post in data:\n",
       "            print(f\"ID: {post['id']}, Title: {post['title']}\")\n",
       "    else:\n",
       "        print(\"Failed to fetch data from the API.\")\n",
       "```\n",
       "\n",
       "### Explanation:\n",
       "1. **Function Definition**: The `fetch_data_from_api` function takes two arguments: the `url` of the API endpoint and optional `params` for query parameters.\n",
       "2. **Making the Request**: The `requests.get()` method is used to make the GET request to the specified URL. If parameters are provided, they are added to the query string.\n",
       "3. **Error Handling**: The `raise_for_status()` method checks if the request was successful (status codes 200-299). If the response indicates an error, it raises an exception.\n",
       "4. **Response Handling**: The response is parsed as JSON and returned as a dictionary. If an exception occurs, an error message is printed, and `None` is returned.\n",
       "5. **Example Usage**: In the `if __name__ == \"__main__\":` block, the function is called with an example API URL and parameters. The resulting data is printed if the fetch is successful.\n",
       "\n",
       "Make sure to install the `requests` library if you haven't already by running:\n",
       "```bash\n",
       "pip install requests\n",
       "```\n",
       "\n",
       "Feel free to modify the `api_url` and `params` to suit your specific API needs!"
      ]
     },
     "metadata": {},
     "output_type": "display_data"
    }
   ],
   "source": [
    "display_markdown(user_code, raw=True)"
   ]
  },
  {
   "cell_type": "markdown",
   "id": "6a04ebe5-0573-4520-a529-aff22d486b7d",
   "metadata": {},
   "source": [
    "## Reflection Step\n"
   ]
  },
  {
   "cell_type": "markdown",
   "id": "020433f1",
   "metadata": {},
   "source": [
    "This is equivalent to asking a follow up question in say ChatGPT\n"
   ]
  },
  {
   "cell_type": "code",
   "execution_count": 8,
   "id": "9d93c928-d585-48af-a74c-a5b8d84593c6",
   "metadata": {
    "tags": []
   },
   "outputs": [],
   "source": [
    "reflection_chat_history = [\n",
    "    {\n",
    "        \"role\": \"system\",\n",
    "        \"content\": \"You are an experienced and talented Pythonista. You are tasked with generating critique and recommendations for the user's code\",\n",
    "    }\n",
    "]"
   ]
  },
  {
   "cell_type": "code",
   "execution_count": 9,
   "id": "26af1a73-4d91-40e8-a9bc-c34d32b2ab82",
   "metadata": {
    "tags": []
   },
   "outputs": [],
   "source": [
    "# We add new messages to the list of messages so that the LLM has context and knowledge of what proceeded.\n",
    "\n",
    "# LLM calls are stateless and previous messages are not stored with the LLM. This is an important fact as we do not want to go over the context window for the LLM or incur unwanted costs if applicable.\n",
    "\n",
    "reflection_chat_history.append({\"role\": \"user\", \"content\": user_code})"
   ]
  },
  {
   "cell_type": "markdown",
   "id": "bfa994c8-3612-47b0-9571-e21d0d73d896",
   "metadata": {},
   "source": [
    "CRITIQUE TIME\n"
   ]
  },
  {
   "cell_type": "markdown",
   "id": "a628b75c",
   "metadata": {},
   "source": [
    "Now that we have the context and the request for a critique, we make a request to the LLM.\n"
   ]
  },
  {
   "cell_type": "code",
   "execution_count": 10,
   "id": "40fee42f-d47a-41b1-a40d-7208ba76ce98",
   "metadata": {
    "tags": []
   },
   "outputs": [],
   "source": [
    "critique = (\n",
    "    client.chat.completions.create(messages=reflection_chat_history, model=MODEL)\n",
    "    .choices[0]\n",
    "    .message.content\n",
    ")"
   ]
  },
  {
   "cell_type": "code",
   "execution_count": 11,
   "id": "0fef3203-c7f1-407f-8b9b-4e8ae140a4cb",
   "metadata": {
    "tags": []
   },
   "outputs": [
    {
     "data": {
      "text/markdown": [
       "Your implementation for fetching data from an API using the `requests` library is well-structured and generally follows good practices. Here are some critiques and recommendations for improving the code:\n",
       "\n",
       "### Positive Aspects:\n",
       "1. **Clear Documentation**: The docstring for the `fetch_data_from_api` function is informative, providing a clear description of parameters and return values.\n",
       "2. **Error Handling**: Using `raise_for_status()` effectively catches HTTP errors and allows for graceful error handling.\n",
       "3. **Usage Example**: Including an example usage of the function in the `__main__` block makes your code easy to understand and test.\n",
       "\n",
       "### Areas for Improvement:\n",
       "1. **Granular Error Handling**: You currently catch all `requests.RequestException` errors. Consider refining error handling to provide more specific feedback based on the type of error (e.g., connection issues, timeout, HTTP errors). This could be done by catching specific exceptions like `HTTPError`, `Timeout`, or `ConnectionError`.\n",
       "   \n",
       "    ```python\n",
       "    except requests.HTTPError as http_err:\n",
       "        print(f\"HTTP error occurred: {http_err}\")  # Bad response\n",
       "    except requests.ConnectionError as conn_err:\n",
       "        print(f\"Connection error occurred: {conn_err}\")  # Network issue\n",
       "    except requests.Timeout as timeout_err:\n",
       "        print(f\"Timeout error occurred: {timeout_err}\")  # Request timed out\n",
       "    except Exception as err:\n",
       "        print(f\"An unexpected error occurred: {err}\")  # Other issues\n",
       "    ```\n",
       "\n",
       "2. **Logging Instead of Printing**: For better maintainability, consider using the `logging` library instead of printing errors directly. This way, you can control the logging levels and formats and redirect logs to files if necessary.\n",
       "   \n",
       "    ```python\n",
       "    import logging\n",
       "    \n",
       "    logging.basicConfig(level=logging.INFO)  # Configure logging level\n",
       "    ...\n",
       "    except requests.RequestException as e:\n",
       "        logging.error(f\"An error occurred: {e}\")\n",
       "        return None\n",
       "    ```\n",
       "\n",
       "3. **Timeouts**: In API requests, it's good practice to specify a timeout. Without it, your code might hang indefinitely if the server doesn't respond. You can add a `timeout` parameter to the `requests.get()` call:\n",
       "\n",
       "    ```python\n",
       "    response = requests.get(url, params=params, timeout=10)  # Timeout set to 10 seconds\n",
       "    ```\n",
       "\n",
       "4. **Type Hinting**: Use type hints for function parameters and return types for improved readability and better integration with IDEs that support type checking.\n",
       "\n",
       "    ```python\n",
       "    from typing import Optional, Dict, Any\n",
       "\n",
       "    def fetch_data_from_api(url: str, params: Optional[Dict[str, Any]] = None) -> Optional[Dict[str, Any]]:\n",
       "    ```\n",
       "\n",
       "5. **Storing API Key and Sensitive Information**: If you plan to use APIs that require authentication or API keys, consider using environment variables or configuration files to manage sensitive information securely.\n",
       "\n",
       "### Example Revised Function:\n",
       "Here’s a revised version of your `fetch_data_from_api` function incorporating the recommendations:\n",
       "\n",
       "```python\n",
       "import requests\n",
       "import logging\n",
       "from typing import Optional, Dict, Any\n",
       "\n",
       "logging.basicConfig(level=logging.INFO)\n",
       "\n",
       "def fetch_data_from_api(url: str, params: Optional[Dict[str, Any]] = None) -> Optional[Dict[str, Any]]:\n",
       "    try:\n",
       "        response = requests.get(url, params=params, timeout=10)  # Using a timeout\n",
       "        response.raise_for_status()\n",
       "        return response.json()\n",
       "    except requests.HTTPError as http_err:\n",
       "        logging.error(f\"HTTP error occurred: {http_err}\")\n",
       "    except requests.ConnectionError as conn_err:\n",
       "        logging.error(f\"Connection error occurred: {conn_err}\")\n",
       "    except requests.Timeout as timeout_err:\n",
       "        logging.error(f\"Timeout error occurred: {timeout_err}\")\n",
       "    except Exception as err:\n",
       "        logging.error(f\"An unexpected error occurred: {err}\")\n",
       "    return None\n",
       "```\n",
       "\n",
       "These modifications will enhance the reliability, maintainability, and usability of your API data fetching function. Nice work overall!"
      ]
     },
     "metadata": {},
     "output_type": "display_data"
    }
   ],
   "source": [
    "# Display\n",
    "\n",
    "display_markdown(critique, raw=True)"
   ]
  },
  {
   "cell_type": "markdown",
   "id": "5df433b0-d662-4378-895e-6b09dd3201bc",
   "metadata": {},
   "source": [
    "Add CRITIQUE to chat...\n"
   ]
  },
  {
   "cell_type": "code",
   "execution_count": 12,
   "id": "27a85bb3-cf6a-4576-8caf-cd41e602a1f1",
   "metadata": {
    "tags": []
   },
   "outputs": [],
   "source": [
    "generation_chat_history.append({\"role\": \"user\", \"content\": critique})"
   ]
  },
  {
   "cell_type": "markdown",
   "id": "c3c1aefa-8454-41ab-af40-2675f340a577",
   "metadata": {},
   "source": [
    "Response to CRITIQUE\n"
   ]
  },
  {
   "cell_type": "code",
   "execution_count": 13,
   "id": "91d845cf-51c3-4cfd-b6a7-1b970413f6db",
   "metadata": {
    "tags": []
   },
   "outputs": [],
   "source": [
    "essay = (\n",
    "    client.chat.completions.create(messages=generation_chat_history, model=MODEL)\n",
    "    .choices[0]\n",
    "    .message.content\n",
    ")"
   ]
  },
  {
   "cell_type": "code",
   "execution_count": 14,
   "id": "ef14eaa8-f501-4efc-997f-8564ec8dccd8",
   "metadata": {
    "tags": []
   },
   "outputs": [
    {
     "data": {
      "text/markdown": [
       "Thank you for the constructive feedback! Here's a revised version of the initial implementation, incorporating your recommendations for better error handling, logging, specifying timeouts, and type hinting:\n",
       "\n",
       "```python\n",
       "import requests\n",
       "import logging\n",
       "from typing import Optional, Dict, Any\n",
       "\n",
       "# Set up logging configuration\n",
       "logging.basicConfig(level=logging.INFO)\n",
       "\n",
       "def fetch_data_from_api(url: str, params: Optional[Dict[str, Any]] = None) -> Optional[Dict[str, Any]]:\n",
       "    \"\"\"\n",
       "    Fetch data from a given API URL.\n",
       "    \n",
       "    :param url: The API endpoint to request data from.\n",
       "    :param params: Optional query parameters to include in the request.\n",
       "    :return: JSON response as a dictionary if successful, or None if failed.\n",
       "    \"\"\"\n",
       "    try:\n",
       "        # Set a timeout for the request\n",
       "        response = requests.get(url, params=params, timeout=10)\n",
       "        # Check if the request was successful\n",
       "        response.raise_for_status()\n",
       "        # Parse JSON response\n",
       "        return response.json()\n",
       "\n",
       "    except requests.HTTPError as http_err:\n",
       "        logging.error(f\"HTTP error occurred: {http_err}\")  # Bad response\n",
       "    except requests.ConnectionError as conn_err:\n",
       "        logging.error(f\"Connection error occurred: {conn_err}\")  # Network issue\n",
       "    except requests.Timeout as timeout_err:\n",
       "        logging.error(f\"Timeout error occurred: {timeout_err}\")  # Request timed out\n",
       "    except Exception as err:\n",
       "        logging.error(f\"An unexpected error occurred: {err}\")  # Other issues\n",
       "\n",
       "    return None\n",
       "\n",
       "if __name__ == \"__main__\":\n",
       "    # Example usage\n",
       "    api_url = \"https://jsonplaceholder.typicode.com/posts\"\n",
       "    params = {'userId': 1}\n",
       "    \n",
       "    data = fetch_data_from_api(api_url, params)\n",
       "    \n",
       "    if data:\n",
       "        logging.info(\"Fetched Data:\")\n",
       "        for post in data:\n",
       "            logging.info(f\"ID: {post['id']}, Title: {post['title']}\")\n",
       "    else:\n",
       "        logging.error(\"Failed to fetch data from the API.\")\n",
       "```\n",
       "\n",
       "### Key Changes:\n",
       "1. **Granular Error Handling**: Each type of error is caught separately, providing more specific logging.\n",
       "2. **Logging**: Used the `logging` library for better maintainability and control over output, rather than using print statements.\n",
       "3. **Timeout**: A timeout of 10 seconds is set for the API request to avoid indefinite hanging.\n",
       "4. **Type Hinting**: Added type hints to improve clarity and IDE support.\n",
       "\n",
       "This revised version follows best practices and is more robust for handling API requests. Thank you for your insightful critiques!"
      ]
     },
     "metadata": {},
     "output_type": "display_data"
    }
   ],
   "source": [
    "# Diaply user response to CRITIQUE\n",
    "display_markdown(essay, raw=True)"
   ]
  },
  {
   "cell_type": "markdown",
   "id": "75883af2-f31d-4c24-b1ff-315a0711f9fa",
   "metadata": {},
   "source": [
    "<br>\n",
    "\n",
    "## We can of course make this a Class...\n"
   ]
  }
 ],
 "metadata": {
  "kernelspec": {
   "display_name": "venv",
   "language": "python",
   "name": "python3"
  },
  "language_info": {
   "codemirror_mode": {
    "name": "ipython",
    "version": 3
   },
   "file_extension": ".py",
   "mimetype": "text/x-python",
   "name": "python",
   "nbconvert_exporter": "python",
   "pygments_lexer": "ipython3",
   "version": "3.12.9"
  }
 },
 "nbformat": 4,
 "nbformat_minor": 5
}
