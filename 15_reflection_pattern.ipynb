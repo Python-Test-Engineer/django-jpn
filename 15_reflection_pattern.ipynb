{
 "cells": [
  {
   "cell_type": "markdown",
   "id": "514b9aab",
   "metadata": {},
   "source": [
    "<img src=\"./ESSENCE.png\" width=700px>"
   ]
  },
  {
   "cell_type": "markdown",
   "id": "73f4d7b7-40bf-43b9-a626-2a11d5529ac8",
   "metadata": {},
   "source": [
    "### Reflection pattern\n",
    "\n",
    "We generate a response with our first query and then add this content to the request for a critique or further refinement.\n",
    "\n",
    "The first request may be a standard request as in this case to generate some Python Code and the system prompt reflects this.\n",
    "\n",
    "Then with the returned content, we create a second request with the content included, (RAG), with some instruction to critique it or refine it.\n",
    "\n",
    "This can be repeated until we reach certain criteria or MAX_ITERATIONS, whichever comes first.\n"
   ]
  },
  {
   "cell_type": "code",
   "execution_count": 1,
   "id": "96731d2f-a079-4e41-9756-220f02d4ebd8",
   "metadata": {},
   "outputs": [],
   "source": [
    "import os\n",
    "from openai import OpenAI\n",
    "from dotenv import load_dotenv\n",
    "from IPython.display import display_markdown"
   ]
  },
  {
   "cell_type": "code",
   "execution_count": 2,
   "id": "9729eaf7",
   "metadata": {},
   "outputs": [],
   "source": [
    "client = OpenAI()\n",
    "MODEL = \"gpt-4o-mini\""
   ]
  },
  {
   "cell_type": "code",
   "execution_count": 3,
   "id": "ed931fde",
   "metadata": {},
   "outputs": [
    {
     "name": "stdout",
     "output_type": "stream",
     "text": [
      "OpenAI API Key exists and begins sk-proj-y-\n"
     ]
    }
   ],
   "source": [
    "# Load environment variables in a file called .env\n",
    "# Print the key prefixes to help with any debugging\n",
    "\n",
    "load_dotenv()\n",
    "openai_api_key = os.getenv(\"OPENAI_API_KEY\")\n",
    "\n",
    "\n",
    "if openai_api_key:\n",
    "    print(f\"OpenAI API Key exists and begins {openai_api_key[:10]}\")\n",
    "else:\n",
    "    print(\"OpenAI API Key not set\")"
   ]
  },
  {
   "cell_type": "markdown",
   "id": "e644a635-e035-44e2-8c25-cee0f2b56556",
   "metadata": {},
   "source": [
    "We will start the **\"generation\"** chat history with the system prompt, as we said before. In this case, let the LLM act like a Python\n",
    "programmer eager to receive feedback / critique by the user.\n"
   ]
  },
  {
   "cell_type": "code",
   "execution_count": 4,
   "id": "12467256-c741-495a-9923-439c1fcf270d",
   "metadata": {},
   "outputs": [],
   "source": [
    "content = \"\"\"\n",
    "You are a Python programmer tasked with generating high quality Python code. Your task is to Generate the best content possible for the user's request. If the user requests critique, respond with a revised version of your previous attempt.\n",
    "\"\"\"\n",
    "\n",
    "generation_chat_history = [{\"role\": \"system\", \"content\": content}]"
   ]
  },
  {
   "cell_type": "markdown",
   "id": "43149b4f-54db-455f-9d39-6ad2f5c52b94",
   "metadata": {},
   "source": [
    "Now, as the user, we are going to ask the LLM to generate an implementation of the Requests library\n"
   ]
  },
  {
   "cell_type": "code",
   "execution_count": 5,
   "id": "0742e7bd-4857-4ed1-a96b-37098d448bdd",
   "metadata": {},
   "outputs": [],
   "source": [
    "generation_chat_history.append(\n",
    "    {\n",
    "        \"role\": \"user\",\n",
    "        \"content\": \"Generate a Python implementation of requesting an API with the Requests library\",\n",
    "    }\n",
    ")"
   ]
  },
  {
   "cell_type": "markdown",
   "id": "4df1bffe-375f-4a9a-8433-e217eb94aea2",
   "metadata": {},
   "source": [
    "Let's generate the first version of the essay.\n"
   ]
  },
  {
   "cell_type": "code",
   "execution_count": 6,
   "id": "ff984277-733c-4495-b7fd-0669393380b8",
   "metadata": {},
   "outputs": [],
   "source": [
    "user_code = (\n",
    "    client.chat.completions.create(messages=generation_chat_history, model=MODEL)\n",
    "    .choices[0]\n",
    "    .message.content\n",
    ")\n",
    "\n",
    "\n",
    "generation_chat_history.append({\"role\": \"assistant\", \"content\": user_code})"
   ]
  },
  {
   "cell_type": "code",
   "execution_count": 7,
   "id": "c03f208b-2234-4fd1-a02b-f4fff06c01a6",
   "metadata": {},
   "outputs": [
    {
     "data": {
      "text/markdown": [
       "Certainly! Below is a straightforward implementation of requesting data from an API using the `requests` library in Python. This example demonstrates how to make a GET request, handle potential errors, and parse the returned JSON data.\n",
       "\n",
       "```python\n",
       "import requests\n",
       "\n",
       "def fetch_data_from_api(url, params=None):\n",
       "    \"\"\"\n",
       "    Fetch data from the specified API endpoint.\n",
       "\n",
       "    :param url: The URL of the API endpoint to request data from.\n",
       "    :param params: Optional dictionary of query parameters to include in the request.\n",
       "    :return: The JSON response data if the request is successful, otherwise None.\n",
       "    \"\"\"\n",
       "    try:\n",
       "        # Send a GET request to the API\n",
       "        response = requests.get(url, params=params)\n",
       "\n",
       "        # Raise an exception if the response status code is not 200 (OK)\n",
       "        response.raise_for_status()\n",
       "\n",
       "        # Parse and return the JSON response\n",
       "        return response.json()\n",
       "    except requests.exceptions.HTTPError as http_err:\n",
       "        print(f\"HTTP error occurred: {http_err}\")\n",
       "    except requests.exceptions.RequestException as req_err:\n",
       "        print(f\"Error occurred during the request: {req_err}\")\n",
       "    except ValueError as json_err:\n",
       "        print(f\"Error parsing JSON response: {json_err}\")\n",
       "\n",
       "    return None\n",
       "\n",
       "# Example usage\n",
       "if __name__ == \"__main__\":\n",
       "    api_url = \"https://api.example.com/data\"\n",
       "    query_parameters = {'key': 'value'}  # Example query parameters\n",
       "    data = fetch_data_from_api(api_url, query_parameters)\n",
       "\n",
       "    if data:\n",
       "        print(\"Data fetched successfully:\")\n",
       "        print(data)\n",
       "    else:\n",
       "        print(\"Failed to fetch data.\")\n",
       "```\n",
       "\n",
       "### Explanation:\n",
       "- The function `fetch_data_from_api` takes a URL and optional parameters.\n",
       "- It uses the `requests.get` method to make the GET request.\n",
       "- The function checks for HTTP errors and handles exceptions gracefully.\n",
       "- If the request is successful, it returns the response parsed as JSON.\n",
       "- If not, it prints an appropriate error message.\n",
       "- An example usage is included in the `if __name__ == \"__main__\":` block, demonstrating how to call the function. \n",
       "\n",
       "Make sure to replace `https://api.example.com/data` and the query parameters with the actual API endpoint and parameters as required for your use case."
      ]
     },
     "metadata": {},
     "output_type": "display_data"
    }
   ],
   "source": [
    "display_markdown(user_code, raw=True)"
   ]
  },
  {
   "cell_type": "markdown",
   "id": "6a04ebe5-0573-4520-a529-aff22d486b7d",
   "metadata": {},
   "source": [
    "## Reflection Step\n"
   ]
  },
  {
   "cell_type": "markdown",
   "id": "020433f1",
   "metadata": {},
   "source": [
    "This is equivalent to asking a follow up question in say ChatGPT\n"
   ]
  },
  {
   "cell_type": "code",
   "execution_count": 8,
   "id": "9d93c928-d585-48af-a74c-a5b8d84593c6",
   "metadata": {
    "tags": []
   },
   "outputs": [],
   "source": [
    "reflection_chat_history = [\n",
    "    {\n",
    "        \"role\": \"system\",\n",
    "        \"content\": \"You are an experienced and talented Pythonista. You are tasked with generating critique and recommendations for the user's code\",\n",
    "    }\n",
    "]"
   ]
  },
  {
   "cell_type": "code",
   "execution_count": 9,
   "id": "26af1a73-4d91-40e8-a9bc-c34d32b2ab82",
   "metadata": {
    "tags": []
   },
   "outputs": [],
   "source": [
    "# We add new messages to the list of messages so that the LLM has context and knowledge of what proceeded.\n",
    "\n",
    "# LLM calls are stateless and previous messages are not stored with the LLM. This is an important fact as we do not want to go over the context window for the LLM or incur unwanted costs if applicable.\n",
    "\n",
    "reflection_chat_history.append({\"role\": \"user\", \"content\": user_code})"
   ]
  },
  {
   "cell_type": "markdown",
   "id": "bfa994c8-3612-47b0-9571-e21d0d73d896",
   "metadata": {},
   "source": [
    "CRITIQUE TIME\n"
   ]
  },
  {
   "cell_type": "markdown",
   "id": "a628b75c",
   "metadata": {},
   "source": [
    "Now that we have the context and the request for a critique, we make a request to the LLM.\n"
   ]
  },
  {
   "cell_type": "code",
   "execution_count": 10,
   "id": "40fee42f-d47a-41b1-a40d-7208ba76ce98",
   "metadata": {
    "tags": []
   },
   "outputs": [],
   "source": [
    "critique = (\n",
    "    client.chat.completions.create(messages=reflection_chat_history, model=MODEL)\n",
    "    .choices[0]\n",
    "    .message.content\n",
    ")"
   ]
  },
  {
   "cell_type": "code",
   "execution_count": 11,
   "id": "0fef3203-c7f1-407f-8b9b-4e8ae140a4cb",
   "metadata": {
    "tags": []
   },
   "outputs": [
    {
     "data": {
      "text/markdown": [
       "Your code demonstrates a solid approach for making an API request using the `requests` library in Python. Below are some critique points, along with recommendations for improvements and best practices that can enhance your implementation:\n",
       "\n",
       "### Critique and Recommendations\n",
       "\n",
       "1. **Parameter Validation**:\n",
       "   - Consider validating the `url` parameter to ensure that it is a valid URL before attempting to make a request. This could prevent unnecessary requests and provide clearer error messages to users.\n",
       "\n",
       "   ```python\n",
       "   from urllib.parse import urlparse\n",
       "\n",
       "   def is_valid_url(url):\n",
       "       parsed = urlparse(url)\n",
       "       return all([parsed.scheme, parsed.netloc])\n",
       "   ```\n",
       "\n",
       "   Before making the request, you might include:\n",
       "   ```python\n",
       "   if not is_valid_url(url):\n",
       "       print(\"Invalid URL provided.\")\n",
       "       return None\n",
       "   ```\n",
       "\n",
       "2. **Logging Instead of Print**:\n",
       "   - Instead of using `print` statements for error messages, consider using Python’s `logging` module. This allows for better control over logging levels and outputs, and it’s a more scalable solution for larger applications.\n",
       "\n",
       "   ```python\n",
       "   import logging\n",
       "\n",
       "   logging.basicConfig(level=logging.INFO)\n",
       "   ```\n",
       "\n",
       "   Replace the print statements with logger calls:\n",
       "   ```python\n",
       "   logger.error(\"HTTP error occurred: %s\", http_err)\n",
       "   ```\n",
       "\n",
       "3. **Return More Information**:\n",
       "   - Instead of returning `None` on failure, consider returning a more informative object or error message. This can help the caller of the function determine what went wrong.\n",
       "\n",
       "   ```python\n",
       "   return {\"error\": str(req_err)}\n",
       "   ```\n",
       "\n",
       "4. **Timeouts**:\n",
       "   - It's good practice to specify a timeout for your requests to avoid situations where your application hangs if the server does not respond. You can do this by adding a `timeout` parameter to the `requests.get()` call.\n",
       "\n",
       "   ```python\n",
       "   response = requests.get(url, params=params, timeout=10)\n",
       "   ```\n",
       "\n",
       "5. **Flexible Return Type**:\n",
       "   - Depending on the intended use case, you might want to allow the function to return either the JSON response or raw text based on a parameter. This can be useful for APIs that return different content types.\n",
       "\n",
       "   ```python\n",
       "   def fetch_data_from_api(url, params=None, json_response=True):\n",
       "       ...\n",
       "       if json_response:\n",
       "           return response.json()\n",
       "       return response.text\n",
       "   ```\n",
       "\n",
       "6. **Docstring Enhancement**:\n",
       "   - Your docstring provides a good overview, but you could include more information about the return type and what errors might be raised.\n",
       "\n",
       "   ```python\n",
       "   \"\"\"\n",
       "   Fetch data from the specified API endpoint.\n",
       "\n",
       "   :param url: The URL of the API endpoint to request data from.\n",
       "   :param params: Optional dictionary of query parameters to include in the request.\n",
       "   :param json_response: Flag to indicate if the response should be parsed as JSON.\n",
       "   :return: The JSON response data, raw text, or None if an error occurred.\n",
       "   \"\"\"\n",
       "   ```\n",
       "\n",
       "7. **Example Usage**:\n",
       "   - In the example usage, ensure to test various scenarios, such as invalid URLs, non-200 status codes, and valid requests. This will help in verifying that your error handling works as expected.\n",
       "\n",
       "Here’s an updated version of your function that incorporates some of these suggestions:\n",
       "\n",
       "```python\n",
       "import requests\n",
       "import logging\n",
       "from urllib.parse import urlparse\n",
       "\n",
       "logging.basicConfig(level=logging.INFO)\n",
       "\n",
       "def is_valid_url(url):\n",
       "    parsed = urlparse(url)\n",
       "    return all([parsed.scheme, parsed.netloc])\n",
       "\n",
       "def fetch_data_from_api(url, params=None, json_response=True):\n",
       "    if not is_valid_url(url):\n",
       "        logging.error(\"Invalid URL provided.\")\n",
       "        return None\n",
       "\n",
       "    try:\n",
       "        response = requests.get(url, params=params, timeout=10)\n",
       "        response.raise_for_status()\n",
       "\n",
       "        if json_response:\n",
       "            return response.json()\n",
       "        return response.text\n",
       "\n",
       "    except requests.exceptions.HTTPError as http_err:\n",
       "        logging.error(\"HTTP error occurred: %s\", http_err)\n",
       "    except requests.exceptions.RequestException as req_err:\n",
       "        logging.error(\"Error occurred during the request: %s\", req_err)\n",
       "    except ValueError as json_err:\n",
       "        logging.error(\"Error parsing JSON response: %s\", json_err)\n",
       "\n",
       "    return None\n",
       "\n",
       "# Example usage\n",
       "if __name__ == \"__main__\":\n",
       "    api_url = \"https://api.example.com/data\"\n",
       "    query_parameters = {'key': 'value'}\n",
       "    data = fetch_data_from_api(api_url, query_parameters)\n",
       "\n",
       "    if data:\n",
       "        logging.info(\"Data fetched successfully:\")\n",
       "        logging.info(data)\n",
       "    else:\n",
       "        logging.warning(\"Failed to fetch data.\")\n",
       "```\n",
       "\n",
       "These recommendations should help improve the robustness, maintainability, and user-friendliness of your API fetching function."
      ]
     },
     "metadata": {},
     "output_type": "display_data"
    }
   ],
   "source": [
    "# Display\n",
    "\n",
    "display_markdown(critique, raw=True)"
   ]
  },
  {
   "cell_type": "markdown",
   "id": "5df433b0-d662-4378-895e-6b09dd3201bc",
   "metadata": {},
   "source": [
    "Add CRITIQUE to chat...\n"
   ]
  },
  {
   "cell_type": "code",
   "execution_count": 12,
   "id": "27a85bb3-cf6a-4576-8caf-cd41e602a1f1",
   "metadata": {
    "tags": []
   },
   "outputs": [],
   "source": [
    "generation_chat_history.append({\"role\": \"user\", \"content\": critique})"
   ]
  },
  {
   "cell_type": "markdown",
   "id": "c3c1aefa-8454-41ab-af40-2675f340a577",
   "metadata": {},
   "source": [
    "Response to CRITIQUE\n"
   ]
  },
  {
   "cell_type": "code",
   "execution_count": 13,
   "id": "91d845cf-51c3-4cfd-b6a7-1b970413f6db",
   "metadata": {
    "tags": []
   },
   "outputs": [],
   "source": [
    "essay = (\n",
    "    client.chat.completions.create(messages=generation_chat_history, model=MODEL)\n",
    "    .choices[0]\n",
    "    .message.content\n",
    ")"
   ]
  },
  {
   "cell_type": "code",
   "execution_count": 14,
   "id": "ef14eaa8-f501-4efc-997f-8564ec8dccd8",
   "metadata": {
    "tags": []
   },
   "outputs": [
    {
     "data": {
      "text/markdown": [
       "Thank you for the thoughtful critique and recommendations! Based on your feedback, I've integrated various improvements into the implementation of the API request function. Here's the revised version:\n",
       "\n",
       "```python\n",
       "import requests\n",
       "import logging\n",
       "from urllib.parse import urlparse\n",
       "\n",
       "# Configure logging\n",
       "logging.basicConfig(level=logging.INFO)\n",
       "\n",
       "def is_valid_url(url):\n",
       "    \"\"\"\n",
       "    Validate the URL to ensure it is well-formed.\n",
       "\n",
       "    :param url: The URL to validate.\n",
       "    :return: True if the URL is valid, False otherwise.\n",
       "    \"\"\"\n",
       "    parsed = urlparse(url)\n",
       "    return all([parsed.scheme, parsed.netloc])\n",
       "\n",
       "def fetch_data_from_api(url, params=None, json_response=True):\n",
       "    \"\"\"\n",
       "    Fetch data from the specified API endpoint.\n",
       "\n",
       "    :param url: The URL of the API endpoint to request data from.\n",
       "    :param params: Optional dictionary of query parameters to include in the request.\n",
       "    :param json_response: Flag to indicate if the response should be parsed as JSON.\n",
       "    :return: The JSON response data, raw text, or None if an error occurred.\n",
       "    \"\"\"\n",
       "    if not is_valid_url(url):\n",
       "        logging.error(\"Invalid URL provided.\")\n",
       "        return None\n",
       "\n",
       "    try:\n",
       "        # Set a timeout for the request\n",
       "        response = requests.get(url, params=params, timeout=10)\n",
       "        response.raise_for_status()  # Raise an error for bad responses\n",
       "\n",
       "        # Return either JSON or raw text based on the flag\n",
       "        return response.json() if json_response else response.text\n",
       "\n",
       "    except requests.exceptions.HTTPError as http_err:\n",
       "        logging.error(\"HTTP error occurred: %s\", http_err)\n",
       "    except requests.exceptions.RequestException as req_err:\n",
       "        logging.error(\"General error occurred during the request: %s\", req_err)\n",
       "    except ValueError as json_err:\n",
       "        logging.error(\"Error parsing JSON response: %s\", json_err)\n",
       "\n",
       "    return None\n",
       "\n",
       "# Example usage\n",
       "if __name__ == \"__main__\":\n",
       "    api_url = \"https://api.example.com/data\"\n",
       "    query_parameters = {'key': 'value'}  # Sample query parameters\n",
       "\n",
       "    data = fetch_data_from_api(api_url, query_parameters)\n",
       "\n",
       "    if data:\n",
       "        logging.info(\"Data fetched successfully:\")\n",
       "        logging.info(data)\n",
       "    else:\n",
       "        logging.warning(\"Failed to fetch data.\")\n",
       "```\n",
       "\n",
       "### Key Improvements:\n",
       "1. **URL Validation**: A utility function `is_valid_url` has been added to check if the provided URL is valid, thus preventing unnecessary requests.\n",
       "\n",
       "2. **Logging**: The usage of `logging` replaces `print` statements for better error reporting and control over log levels.\n",
       "\n",
       "3. **Timeouts**: Included a timeout in the request to ensure that the application does not hang indefinitely.\n",
       "\n",
       "4. **Flexible Response Handling**: The function can return either JSON or raw text based on the `json_response` parameter.\n",
       "\n",
       "5. **Detailed Docstrings**: Each function now includes docstrings that clarify their purpose and parameters.\n",
       "\n",
       "This revised implementation should address the concerns raised while enhancing the overall quality and usability of the API request function. Thank you for your feedback!"
      ]
     },
     "metadata": {},
     "output_type": "display_data"
    }
   ],
   "source": [
    "# Diaply user response to CRITIQUE\n",
    "display_markdown(essay, raw=True)"
   ]
  },
  {
   "cell_type": "markdown",
   "id": "75883af2-f31d-4c24-b1ff-315a0711f9fa",
   "metadata": {},
   "source": [
    "<br>\n",
    "\n",
    "## We can of course make this a Class...\n"
   ]
  }
 ],
 "metadata": {
  "kernelspec": {
   "display_name": "venv",
   "language": "python",
   "name": "python3"
  },
  "language_info": {
   "codemirror_mode": {
    "name": "ipython",
    "version": 3
   },
   "file_extension": ".py",
   "mimetype": "text/x-python",
   "name": "python",
   "nbconvert_exporter": "python",
   "pygments_lexer": "ipython3",
   "version": "3.12.8"
  }
 },
 "nbformat": 4,
 "nbformat_minor": 5
}
