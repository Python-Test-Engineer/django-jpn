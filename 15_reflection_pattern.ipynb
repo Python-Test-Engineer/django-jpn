{
 "cells": [
  {
   "cell_type": "markdown",
   "id": "514b9aab",
   "metadata": {},
   "source": [
    "<img src=\"./ESSENCE.png\" width=700px>"
   ]
  },
  {
   "cell_type": "markdown",
   "id": "73f4d7b7-40bf-43b9-a626-2a11d5529ac8",
   "metadata": {},
   "source": [
    "### Reflection pattern\n",
    "\n",
    "We generate a response with our first query and then add this content to the request for a critique or further refinement.\n",
    "\n",
    "The first request may be a standard request as in this case to generate some Python Code and the system prompt reflects this.\n",
    "\n",
    "Then with the returned content, we create a second request with the content included, (RAG), with some instruction to critique it or refine it.\n",
    "\n",
    "This can be repeated until we reach certain criteria or MAX_ITERATIONS, whichever comes first.\n",
    "\n",
    "Each query is as if it was the first query with more information contained within it as each request is stateless.\n"
   ]
  },
  {
   "cell_type": "code",
   "execution_count": 1,
   "id": "96731d2f-a079-4e41-9756-220f02d4ebd8",
   "metadata": {},
   "outputs": [],
   "source": [
    "import os\n",
    "from openai import OpenAI\n",
    "from dotenv import load_dotenv\n",
    "from IPython.display import display_markdown"
   ]
  },
  {
   "cell_type": "code",
   "execution_count": 2,
   "id": "9729eaf7",
   "metadata": {},
   "outputs": [],
   "source": [
    "client = OpenAI()\n",
    "MODEL = \"gpt-4o-mini\""
   ]
  },
  {
   "cell_type": "code",
   "execution_count": 3,
   "id": "ed931fde",
   "metadata": {},
   "outputs": [
    {
     "name": "stdout",
     "output_type": "stream",
     "text": [
      "OpenAI API Key exists and begins sk-proj-TV\n"
     ]
    }
   ],
   "source": [
    "# Load environment variables in a file called .env\n",
    "# Print the key prefixes to help with any debugging\n",
    "\n",
    "load_dotenv()\n",
    "openai_api_key = os.getenv(\"OPENAI_API_KEY\")\n",
    "\n",
    "\n",
    "if openai_api_key:\n",
    "    print(f\"OpenAI API Key exists and begins {openai_api_key[:10]}\")\n",
    "else:\n",
    "    print(\"OpenAI API Key not set\")"
   ]
  },
  {
   "cell_type": "markdown",
   "id": "e644a635-e035-44e2-8c25-cee0f2b56556",
   "metadata": {},
   "source": [
    "We will start the **\"generation\"** chat history with the system prompt, as we said before. In this case, let the LLM act like a Python\n",
    "programmer eager to receive feedback / critique by the user.\n"
   ]
  },
  {
   "cell_type": "code",
   "execution_count": 4,
   "id": "12467256-c741-495a-9923-439c1fcf270d",
   "metadata": {},
   "outputs": [],
   "source": [
    "content = \"\"\"\n",
    "You are a Python programmer tasked with generating high quality Python code. Your task is to Generate the best content possible for the user's request. If the user requests critique, respond with a revised version of your previous attempt.\n",
    "\"\"\"\n",
    "\n",
    "generation_chat_history = [{\"role\": \"system\", \"content\": content}]"
   ]
  },
  {
   "cell_type": "markdown",
   "id": "43149b4f-54db-455f-9d39-6ad2f5c52b94",
   "metadata": {},
   "source": [
    "Now, as the user, we are going to ask the LLM to generate an implementation of the Requests library\n"
   ]
  },
  {
   "cell_type": "code",
   "execution_count": 5,
   "id": "0742e7bd-4857-4ed1-a96b-37098d448bdd",
   "metadata": {},
   "outputs": [],
   "source": [
    "generation_chat_history.append(\n",
    "    {\n",
    "        \"role\": \"user\",\n",
    "        \"content\": \"Generate a Python implementation of requesting an API with the Requests library\",\n",
    "    }\n",
    ")"
   ]
  },
  {
   "cell_type": "markdown",
   "id": "4df1bffe-375f-4a9a-8433-e217eb94aea2",
   "metadata": {},
   "source": [
    "Let's generate the first version of the essay.\n"
   ]
  },
  {
   "cell_type": "code",
   "execution_count": 6,
   "id": "ff984277-733c-4495-b7fd-0669393380b8",
   "metadata": {},
   "outputs": [],
   "source": [
    "user_code = (\n",
    "    client.chat.completions.create(messages=generation_chat_history, model=MODEL)\n",
    "    .choices[0]\n",
    "    .message.content\n",
    ")\n",
    "\n",
    "\n",
    "generation_chat_history.append({\"role\": \"assistant\", \"content\": user_code})"
   ]
  },
  {
   "cell_type": "code",
   "execution_count": 7,
   "id": "c03f208b-2234-4fd1-a02b-f4fff06c01a6",
   "metadata": {},
   "outputs": [
    {
     "data": {
      "text/markdown": [
       "Certainly! Below is a Python implementation that demonstrates how to make a GET request to an API using the Requests library. This implementation includes error handling and proper responses management.\n",
       "\n",
       "```python\n",
       "import requests\n",
       "\n",
       "def fetch_api_data(url):\n",
       "    \"\"\"\n",
       "    Fetches data from the provided API URL.\n",
       "\n",
       "    Parameters:\n",
       "    url (str): The URL of the API endpoint.\n",
       "\n",
       "    Returns:\n",
       "    dict: The JSON response from the API if the request was successful.\n",
       "    None: If the request failed or data could not be retrieved.\n",
       "    \"\"\"\n",
       "    try:\n",
       "        # Making a GET request to the API\n",
       "        response = requests.get(url)\n",
       "\n",
       "        # Raise an HTTPError for bad responses (4xx or 5xx)\n",
       "        response.raise_for_status()\n",
       "\n",
       "        # Attempt to parse the response as JSON\n",
       "        return response.json()\n",
       "\n",
       "    except requests.exceptions.RequestException as e:\n",
       "        print(f\"An error occurred: {e}\")\n",
       "    except ValueError as e:\n",
       "        print(f\"Error parsing JSON: {e}\")\n",
       "\n",
       "    return None\n",
       "\n",
       "if __name__ == \"__main__\":\n",
       "    # Example usage\n",
       "    api_url = \"https://api.example.com/data\"\n",
       "    data = fetch_api_data(api_url)\n",
       "\n",
       "    if data:\n",
       "        print(\"Data fetched successfully:\")\n",
       "        print(data)\n",
       "    else:\n",
       "        print(\"Failed to fetch data.\")\n",
       "```\n",
       "\n",
       "### Explanation:\n",
       "1. **Imports**: The `requests` module is imported which is essential for making HTTP requests.\n",
       "2. **Function `fetch_api_data`**: \n",
       "   - Takes a URL as input and makes a GET request.\n",
       "   - It uses `response.raise_for_status()` to handle HTTP errors gracefully.\n",
       "   - Parses the response to JSON and returns it.\n",
       "   - Catches exceptions from network issues and JSON parsing errors, printing error messages.\n",
       "3. **Main Block**: An example of how to use the function. It specifies an API URL and prints the fetched data or an error message.\n",
       "\n",
       "### Notes:\n",
       "- Make sure to replace `https://api.example.com/data` with the actual API endpoint you want to call.\n",
       "- To run this code, you need to have the `requests` library installed. You can install it via pip:\n",
       "  ```\n",
       "  pip install requests\n",
       "  ``` \n",
       "\n",
       "Feel free to modify the URL and add any headers or parameters as needed for your specific API request!"
      ]
     },
     "metadata": {},
     "output_type": "display_data"
    }
   ],
   "source": [
    "display_markdown(user_code, raw=True)"
   ]
  },
  {
   "cell_type": "markdown",
   "id": "6a04ebe5-0573-4520-a529-aff22d486b7d",
   "metadata": {},
   "source": [
    "## Reflection Step\n"
   ]
  },
  {
   "cell_type": "markdown",
   "id": "020433f1",
   "metadata": {},
   "source": [
    "This is equivalent to asking a follow up question in say ChatGPT\n"
   ]
  },
  {
   "cell_type": "code",
   "execution_count": 8,
   "id": "9d93c928-d585-48af-a74c-a5b8d84593c6",
   "metadata": {
    "tags": []
   },
   "outputs": [],
   "source": [
    "reflection_chat_history = [\n",
    "    {\n",
    "        \"role\": \"system\",\n",
    "        \"content\": \"You are an experienced and talented Pythonista. You are tasked with generating critique and recommendations for the user's code\",\n",
    "    }\n",
    "]"
   ]
  },
  {
   "cell_type": "code",
   "execution_count": 9,
   "id": "26af1a73-4d91-40e8-a9bc-c34d32b2ab82",
   "metadata": {
    "tags": []
   },
   "outputs": [],
   "source": [
    "# We add new messages to the list of messages so that the LLM has context and knowledge of what proceeded.\n",
    "\n",
    "# LLM calls are stateless and previous messages are not stored with the LLM. This is an important fact as we do not want to go over the context window for the LLM or incur unwanted costs if applicable.\n",
    "\n",
    "reflection_chat_history.append({\"role\": \"user\", \"content\": user_code})"
   ]
  },
  {
   "cell_type": "markdown",
   "id": "bfa994c8-3612-47b0-9571-e21d0d73d896",
   "metadata": {},
   "source": [
    "CRITIQUE TIME\n"
   ]
  },
  {
   "cell_type": "markdown",
   "id": "a628b75c",
   "metadata": {},
   "source": [
    "Now that we have the context and the request for a critique, we make a request to the LLM.\n"
   ]
  },
  {
   "cell_type": "code",
   "execution_count": 10,
   "id": "40fee42f-d47a-41b1-a40d-7208ba76ce98",
   "metadata": {
    "tags": []
   },
   "outputs": [],
   "source": [
    "critique = (\n",
    "    client.chat.completions.create(messages=reflection_chat_history, model=MODEL)\n",
    "    .choices[0]\n",
    "    .message.content\n",
    ")"
   ]
  },
  {
   "cell_type": "code",
   "execution_count": 11,
   "id": "0fef3203-c7f1-407f-8b9b-4e8ae140a4cb",
   "metadata": {
    "tags": []
   },
   "outputs": [
    {
     "data": {
      "text/markdown": [
       "Your implementation of the API GET request using the Requests library is quite solid. It includes essential functionalities such as error handling and JSON parsing, which are crucial for working with web APIs. Here are a few critiques and recommendations that could enhance your code further:\n",
       "\n",
       "### Critiques:\n",
       "\n",
       "1. **Error Handling Messages**: The error messages currently print directly to the console. In a production environment, it might be better to log these errors using Python’s built-in `logging` module, which allows for better control over logging levels and output destinations.\n",
       "\n",
       "2. **Return Value Consistency**: The function can return `None` if an exception is raised, but this can be ambiguous with a successful response that may just happen to be `None`. It may be helpful to consider raising a custom exception or returning a tuple `(data, error)` for better clarity on the outcome.\n",
       "\n",
       "3. **Function Documentation**: The docstring is good, but it could specify what type of errors might occur or what specific kind of data the function is expected to return. This information can be helpful for users of the function.\n",
       "\n",
       "4. **User-Agent Header**: It’s often advisable to include a User-Agent header in your requests, as some APIs might block requests without it. \n",
       "\n",
       "5. **Use of `ValueError` Exception**: Catching `ValueError` specifically might not be necessary since `json()` will raise `requests.exceptions.JSONDecodeError`, which is derived from `ValueError`. You could handle that error directly instead.\n",
       "\n",
       "### Recommendations:\n",
       "\n",
       "1. **Enhance Logging**: Consider using Python's built-in logging module for better logging:\n",
       "   ```python\n",
       "   import logging\n",
       "\n",
       "   logging.basicConfig(level=logging.INFO)\n",
       "\n",
       "   def fetch_api_data(url):\n",
       "       logger = logging.getLogger(__name__)\n",
       "       ...\n",
       "       except requests.exceptions.RequestException as e:\n",
       "           logger.error(\"An error occurred: %s\", e)\n",
       "       except requests.exceptions.JSONDecodeError as e:\n",
       "           logger.error(\"Error parsing JSON: %s\", e)\n",
       "   ```\n",
       "\n",
       "2. **Custom Exceptions**: If you want to enhance error handling, consider implementing a custom exception for better clarity, like this:\n",
       "   ```python\n",
       "   class APIError(Exception):\n",
       "       pass\n",
       "\n",
       "   def fetch_api_data(url):\n",
       "       try:\n",
       "           ...\n",
       "       except requests.exceptions.RequestException as e:\n",
       "           raise APIError(f\"API request failed: {e}\")\n",
       "   ```\n",
       "\n",
       "3. **User-Agent Header**: Example:\n",
       "   ```python\n",
       "   headers = {\n",
       "       'User-Agent': 'YourAppName/1.0'\n",
       "   }\n",
       "   response = requests.get(url, headers=headers)\n",
       "   ```\n",
       "\n",
       "4. **Parameterization of URL**: If you need to pass parameters to your API call, consider expanding your function to accept query parameters:\n",
       "   ```python\n",
       "   def fetch_api_data(url, params=None):\n",
       "       response = requests.get(url, headers=headers, params=params)\n",
       "   ```\n",
       "\n",
       "5. **Timeouts for Requests**: Adding a timeout to your requests can prevent the program from hanging indefinitely. Consider adding:\n",
       "   ```python\n",
       "   response = requests.get(url, headers=headers, timeout=5)  # 5 seconds timeout\n",
       "   ```\n",
       "\n",
       "6. **Testing and Validating Responses**: Checking if the response is indeed JSON can further solidify the reliability of your function:\n",
       "   ```python\n",
       "   if response.headers.get('Content-Type') == 'application/json':\n",
       "       return response.json()\n",
       "   ```\n",
       "\n",
       "### Example of Enhanced Code:\n",
       "Here’s a refined version of your function incorporating some of these recommendations:\n",
       "\n",
       "```python\n",
       "import requests\n",
       "import logging\n",
       "\n",
       "logging.basicConfig(level=logging.INFO)\n",
       "\n",
       "class APIError(Exception):\n",
       "    pass\n",
       "\n",
       "def fetch_api_data(url, params=None):\n",
       "    \"\"\"\n",
       "    Fetches data from the provided API URL.\n",
       "\n",
       "    Parameters:\n",
       "    url (str): The URL of the API endpoint.\n",
       "    params (dict): Optional query parameters to include in the request.\n",
       "\n",
       "    Returns:\n",
       "    dict: The JSON response from the API if the request was successful.\n",
       "    Raises APIError: If the request failed or data could not be retrieved.\n",
       "    \"\"\"\n",
       "    headers = {\n",
       "        'User-Agent': 'YourAppName/1.0'\n",
       "    }\n",
       "    try:\n",
       "        response = requests.get(url, headers=headers, params=params, timeout=5)\n",
       "        response.raise_for_status()\n",
       "\n",
       "        if response.headers.get('Content-Type') == 'application/json':\n",
       "            return response.json()\n",
       "        else:\n",
       "            raise APIError(f\"Unexpected content type: {response.headers.get('Content-Type')}\")\n",
       "\n",
       "    except requests.exceptions.RequestException as e:\n",
       "        logging.error(\"An error occurred: %s\", e)\n",
       "        raise APIError(f\"API request failed: {e}\")\n",
       "\n",
       "if __name__ == \"__main__\":\n",
       "    api_url = \"https://api.example.com/data\"\n",
       "    try:\n",
       "        data = fetch_api_data(api_url)\n",
       "        print(\"Data fetched successfully:\")\n",
       "        print(data)\n",
       "    except APIError:\n",
       "        print(\"Failed to fetch data.\")\n",
       "```\n",
       "\n",
       "This enhanced version adheres to best practices and improves the robustness of your API fetching process. Great job, and keep up the good work!"
      ]
     },
     "metadata": {},
     "output_type": "display_data"
    }
   ],
   "source": [
    "# Display\n",
    "\n",
    "display_markdown(critique, raw=True)"
   ]
  },
  {
   "cell_type": "markdown",
   "id": "5df433b0-d662-4378-895e-6b09dd3201bc",
   "metadata": {},
   "source": [
    "Add CRITIQUE to chat...\n"
   ]
  },
  {
   "cell_type": "code",
   "execution_count": 12,
   "id": "27a85bb3-cf6a-4576-8caf-cd41e602a1f1",
   "metadata": {
    "tags": []
   },
   "outputs": [],
   "source": [
    "generation_chat_history.append({\"role\": \"user\", \"content\": critique})"
   ]
  },
  {
   "cell_type": "markdown",
   "id": "c3c1aefa-8454-41ab-af40-2675f340a577",
   "metadata": {},
   "source": [
    "Response to CRITIQUE\n"
   ]
  },
  {
   "cell_type": "code",
   "execution_count": 13,
   "id": "91d845cf-51c3-4cfd-b6a7-1b970413f6db",
   "metadata": {
    "tags": []
   },
   "outputs": [],
   "source": [
    "essay = (\n",
    "    client.chat.completions.create(messages=generation_chat_history, model=MODEL)\n",
    "    .choices[0]\n",
    "    .message.content\n",
    ")"
   ]
  },
  {
   "cell_type": "code",
   "execution_count": 14,
   "id": "ef14eaa8-f501-4efc-997f-8564ec8dccd8",
   "metadata": {
    "tags": []
   },
   "outputs": [
    {
     "data": {
      "text/markdown": [
       "Thank you for your insightful critiques and recommendations! Based on your feedback, I've revised the implementation to address the points you've raised, incorporating enhanced error handling, logging, user-agent headers, and optional parameters. Here’s the improved version of the Python implementation using the Requests library for making API requests:\n",
       "\n",
       "```python\n",
       "import requests\n",
       "import logging\n",
       "\n",
       "# Configure logging\n",
       "logging.basicConfig(level=logging.INFO)\n",
       "\n",
       "class APIError(Exception):\n",
       "    \"\"\"Custom exception for API errors.\"\"\"\n",
       "    pass\n",
       "\n",
       "def fetch_api_data(url, params=None):\n",
       "    \"\"\"\n",
       "    Fetches data from the provided API URL.\n",
       "\n",
       "    Parameters:\n",
       "    url (str): The URL of the API endpoint.\n",
       "    params (dict, optional): Query parameters to include in the request.\n",
       "\n",
       "    Returns:\n",
       "    dict: The JSON response from the API if the request was successful.\n",
       "    \n",
       "    Raises:\n",
       "    APIError: If the request failed or data could not be retrieved.\n",
       "    \"\"\"\n",
       "    headers = {\n",
       "        'User-Agent': 'YourAppName/1.0'\n",
       "    }\n",
       "    \n",
       "    try:\n",
       "        response = requests.get(url, headers=headers, params=params, timeout=5)\n",
       "        response.raise_for_status()\n",
       "\n",
       "        # Check if the response content type is JSON\n",
       "        if response.headers.get('Content-Type') == 'application/json':\n",
       "            return response.json()\n",
       "        else:\n",
       "            raise APIError(f\"Unexpected content type: {response.headers.get('Content-Type')}\")\n",
       "\n",
       "    except requests.exceptions.RequestException as e:\n",
       "        logging.error(\"An error occurred: %s\", e)\n",
       "        raise APIError(f\"API request failed: {e}\")\n",
       "    except requests.exceptions.JSONDecodeError as e:\n",
       "        logging.error(\"Error parsing JSON: %s\", e)\n",
       "        raise APIError(f\"Failed to decode JSON: {e}\")\n",
       "\n",
       "if __name__ == \"__main__\":\n",
       "    # Example usage\n",
       "    api_url = \"https://api.example.com/data\"\n",
       "    try:\n",
       "        data = fetch_api_data(api_url)\n",
       "        print(\"Data fetched successfully:\")\n",
       "        print(data)\n",
       "    except APIError:\n",
       "        print(\"Failed to fetch data.\")\n",
       "```\n",
       "\n",
       "### Key Improvements:\n",
       "1. **Logging**: Using Python’s built-in logging module instead of print statements for better tracking of errors.\n",
       "2. **Custom Exception**: Introduced a custom `APIError` exception to convey API-related issues more clearly.\n",
       "3. **User-Agent Header**: Included a User-Agent header in the requests.\n",
       "4. **Parameterization**: The `params` argument allows for query parameters to be passed.\n",
       "5. **Timeout Handling**: Added a timeout to prevent indefinite hanging on requests.\n",
       "6. **Content-Type Check**: Validates the content type of the response before processing it.\n",
       "\n",
       "This version aims to create a more robust and maintainable API client while adhering to best practices in Python programming. Thank you for your feedback, and please let me know if you have any more suggestions or need further assistance!"
      ]
     },
     "metadata": {},
     "output_type": "display_data"
    }
   ],
   "source": [
    "# Diaply user response to CRITIQUE\n",
    "display_markdown(essay, raw=True)"
   ]
  },
  {
   "cell_type": "markdown",
   "id": "75883af2-f31d-4c24-b1ff-315a0711f9fa",
   "metadata": {},
   "source": [
    "<br>\n",
    "\n",
    "## We can of course make this a Class...\n"
   ]
  }
 ],
 "metadata": {
  "kernelspec": {
   "display_name": "venv",
   "language": "python",
   "name": "python3"
  },
  "language_info": {
   "codemirror_mode": {
    "name": "ipython",
    "version": 3
   },
   "file_extension": ".py",
   "mimetype": "text/x-python",
   "name": "python",
   "nbconvert_exporter": "python",
   "pygments_lexer": "ipython3",
   "version": "3.12.9"
  }
 },
 "nbformat": 4,
 "nbformat_minor": 5
}
