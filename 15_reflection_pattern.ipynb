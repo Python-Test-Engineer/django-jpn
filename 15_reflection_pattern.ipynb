{
 "cells": [
  {
   "cell_type": "markdown",
   "id": "514b9aab",
   "metadata": {},
   "source": [
    "<img src=\"./ESSENCE.png\" width=700px>"
   ]
  },
  {
   "cell_type": "markdown",
   "id": "73f4d7b7-40bf-43b9-a626-2a11d5529ac8",
   "metadata": {},
   "source": [
    "### Reflection pattern\n",
    "\n",
    "## input -> function(input) -> output -> function(output) -> output2\n",
    "\n",
    "## Generate code -> Refine code\n",
    "\n",
    "We generate a response with our first query using a system prompt to create code.\n",
    "\n",
    "We then pass the output into another function that acts as a reviewer to produce the next version of the code.\n",
    "\n",
    "This can be repeated until we reach certain criteria or MAX_ITERATIONS, whichever comes first.\n",
    "\n",
    "Each query is as if it was the first query with more information contained within it as each request is stateless.\n"
   ]
  },
  {
   "cell_type": "code",
   "execution_count": 1,
   "id": "96731d2f-a079-4e41-9756-220f02d4ebd8",
   "metadata": {},
   "outputs": [],
   "source": [
    "import os\n",
    "from openai import OpenAI\n",
    "from dotenv import load_dotenv\n",
    "from IPython.display import display_markdown"
   ]
  },
  {
   "cell_type": "code",
   "execution_count": 2,
   "id": "9729eaf7",
   "metadata": {},
   "outputs": [],
   "source": [
    "client = OpenAI()\n",
    "MODEL = \"gpt-4o-mini\""
   ]
  },
  {
   "cell_type": "code",
   "execution_count": 3,
   "id": "ed931fde",
   "metadata": {},
   "outputs": [
    {
     "name": "stdout",
     "output_type": "stream",
     "text": [
      "OpenAI API Key exists and begins sk-proj-TV\n"
     ]
    }
   ],
   "source": [
    "# Load environment variables in a file called .env\n",
    "# Print the key prefixes to help with any debugging\n",
    "\n",
    "load_dotenv()\n",
    "openai_api_key = os.getenv(\"OPENAI_API_KEY\")\n",
    "\n",
    "\n",
    "if openai_api_key:\n",
    "    print(f\"OpenAI API Key exists and begins {openai_api_key[:10]}\")\n",
    "else:\n",
    "    print(\"OpenAI API Key not set\")"
   ]
  },
  {
   "cell_type": "markdown",
   "id": "e644a635-e035-44e2-8c25-cee0f2b56556",
   "metadata": {},
   "source": [
    "We will start the **\"generation\"** chat history with the system prompt, as we said before. In this case, let the LLM act like a Python\n",
    "programmer eager to receive feedback / critique by the user.\n"
   ]
  },
  {
   "cell_type": "code",
   "execution_count": 4,
   "id": "12467256-c741-495a-9923-439c1fcf270d",
   "metadata": {},
   "outputs": [],
   "source": [
    "content = \"\"\"\n",
    "You are a Python programmer tasked with generating high quality Python code. Your task is to Generate the best content possible for the user's request. If the user requests critique, respond with a revised version of your previous attempt.\n",
    "\"\"\"\n",
    "\n",
    "generation_chat_history = [{\"role\": \"system\", \"content\": content}]"
   ]
  },
  {
   "cell_type": "markdown",
   "id": "43149b4f-54db-455f-9d39-6ad2f5c52b94",
   "metadata": {},
   "source": [
    "Now, as the user, we are going to ask the LLM to generate an implementation of the Requests library\n"
   ]
  },
  {
   "cell_type": "code",
   "execution_count": 5,
   "id": "0742e7bd-4857-4ed1-a96b-37098d448bdd",
   "metadata": {},
   "outputs": [],
   "source": [
    "generation_chat_history.append(\n",
    "    {\n",
    "        \"role\": \"user\",\n",
    "        \"content\": \"Generate a Python implementation of requesting an API with the Requests library\",\n",
    "    }\n",
    ")"
   ]
  },
  {
   "cell_type": "markdown",
   "id": "4df1bffe-375f-4a9a-8433-e217eb94aea2",
   "metadata": {},
   "source": [
    "Let's generate the first version of the essay.\n"
   ]
  },
  {
   "cell_type": "code",
   "execution_count": 6,
   "id": "ff984277-733c-4495-b7fd-0669393380b8",
   "metadata": {},
   "outputs": [],
   "source": [
    "user_code = (\n",
    "    client.chat.completions.create(messages=generation_chat_history, model=MODEL)\n",
    "    .choices[0]\n",
    "    .message.content\n",
    ")\n",
    "\n",
    "\n",
    "generation_chat_history.append({\"role\": \"assistant\", \"content\": user_code})"
   ]
  },
  {
   "cell_type": "code",
   "execution_count": 7,
   "id": "c03f208b-2234-4fd1-a02b-f4fff06c01a6",
   "metadata": {},
   "outputs": [
    {
     "data": {
      "text/markdown": [
       "Certainly! Below is a Python implementation that demonstrates how to request data from an API using the `requests` library. This example includes handling response data and basic error checking.\n",
       "\n",
       "```python\n",
       "import requests\n",
       "\n",
       "def fetch_data_from_api(url, params=None):\n",
       "    \"\"\"\n",
       "    Fetches data from a specified API URL.\n",
       "\n",
       "    Args:\n",
       "        url (str): The API endpoint to request data from.\n",
       "        params (dict, optional): A dictionary of query parameters to include in the request.\n",
       "\n",
       "    Returns:\n",
       "        dict: The JSON response from the API if the request is successful.\n",
       "        None: If the request fails for any reason.\n",
       "    \"\"\"\n",
       "    try:\n",
       "        response = requests.get(url, params=params)\n",
       "        response.raise_for_status()  # Raises an HTTPError for bad responses (4xx and 5xx)\n",
       "\n",
       "        # Assuming the response is in JSON format\n",
       "        return response.json()\n",
       "\n",
       "    except requests.exceptions.HTTPError as http_err:\n",
       "        print(f\"HTTP error occurred: {http_err}\")  # Print HTTP error\n",
       "    except Exception as err:\n",
       "        print(f\"An error occurred: {err}\")  # Print any other error\n",
       "    return None\n",
       "\n",
       "# Example usage\n",
       "if __name__ == \"__main__\":\n",
       "    api_url = \"https://api.example.com/data\"\n",
       "    query_params = {\"key\": \"value\"}  # Replace with actual query parameters\n",
       "\n",
       "    data = fetch_data_from_api(api_url, query_params)\n",
       "    if data:\n",
       "        print(\"API Data Retrieved:\")\n",
       "        print(data)\n",
       "    else:\n",
       "        print(\"Failed to retrieve data from the API.\")\n",
       "```\n",
       "\n",
       "### Explanation:\n",
       "1. **Function Definition**: The function `fetch_data_from_api` takes in a `url` and optional `params`.\n",
       "2. **Request Handling**: It uses `requests.get` to make the GET request and checks for HTTP errors using `response.raise_for_status()`.\n",
       "3. **JSON Handling**: If the request is successful, the JSON response is returned.\n",
       "4. **Error Handling**: Basic error handling for HTTP errors and general exceptions is included.\n",
       "5. **Example Usage**: A sample main block shows how to call the function and handle the results.\n",
       "\n",
       "Make sure to replace `https://api.example.com/data` and the dictionary in `query_params` with the actual API endpoint and any necessary parameters for your specific use case."
      ]
     },
     "metadata": {},
     "output_type": "display_data"
    }
   ],
   "source": [
    "display_markdown(user_code, raw=True)"
   ]
  },
  {
   "cell_type": "markdown",
   "id": "6a04ebe5-0573-4520-a529-aff22d486b7d",
   "metadata": {},
   "source": [
    "## Reflection Step\n"
   ]
  },
  {
   "cell_type": "markdown",
   "id": "020433f1",
   "metadata": {},
   "source": [
    "This is equivalent to asking a follow up question in say ChatGPT and we change the system prompt or what we want it to do along with the output from the previous query.\n"
   ]
  },
  {
   "cell_type": "code",
   "execution_count": 8,
   "id": "9d93c928-d585-48af-a74c-a5b8d84593c6",
   "metadata": {
    "tags": []
   },
   "outputs": [],
   "source": [
    "reflection_chat_history = [\n",
    "    {\n",
    "        \"role\": \"system\",\n",
    "        \"content\": \"You are an experienced and talented Pythonista. You are tasked with generating critique and recommendations for the user's code\",\n",
    "    }\n",
    "]"
   ]
  },
  {
   "cell_type": "code",
   "execution_count": 9,
   "id": "26af1a73-4d91-40e8-a9bc-c34d32b2ab82",
   "metadata": {
    "tags": []
   },
   "outputs": [],
   "source": [
    "# We add new messages to the list of messages so that the LLM has context and knowledge of what proceeded.\n",
    "\n",
    "# LLM calls are stateless and previous messages are not stored with the LLM. This is an important fact as we do not want to go over the context window for the LLM or incur unwanted costs if applicable.\n",
    "\n",
    "reflection_chat_history.append({\"role\": \"user\", \"content\": user_code})"
   ]
  },
  {
   "cell_type": "markdown",
   "id": "bfa994c8-3612-47b0-9571-e21d0d73d896",
   "metadata": {},
   "source": [
    "CRITIQUE TIME\n"
   ]
  },
  {
   "cell_type": "markdown",
   "id": "a628b75c",
   "metadata": {},
   "source": [
    "Now that we have the context and the request for a critique, we make a request to the LLM.\n"
   ]
  },
  {
   "cell_type": "code",
   "execution_count": 10,
   "id": "40fee42f-d47a-41b1-a40d-7208ba76ce98",
   "metadata": {
    "tags": []
   },
   "outputs": [],
   "source": [
    "critique = (\n",
    "    client.chat.completions.create(messages=reflection_chat_history, model=MODEL)\n",
    "    .choices[0]\n",
    "    .message.content\n",
    ")"
   ]
  },
  {
   "cell_type": "code",
   "execution_count": 11,
   "id": "0fef3203-c7f1-407f-8b9b-4e8ae140a4cb",
   "metadata": {
    "tags": []
   },
   "outputs": [
    {
     "data": {
      "text/markdown": [
       "Your Python implementation of requesting data from an API using the `requests` library is well-structured and clear. Below are some critiques and recommendations to enhance your code:\n",
       "\n",
       "### Critique:\n",
       "\n",
       "1. **Error Reporting**:\n",
       "   - You're printing errors directly to the console. While this is helpful for debugging, in production code, you might want to log errors instead of printing them, which can be more flexible and appropriate for long-term use.\n",
       "\n",
       "2. **Handling Non-JSON Responses**:\n",
       "   - The code assumes that the API will always return a JSON response. You should check the `Content-Type` header of the response to ensure that it is JSON before trying to call `response.json()` to avoid `ValueError`.\n",
       "\n",
       "3. **Function Documentation**:\n",
       "   - The docstring is clear, but further details could be provided. For example, it could explicitly mention the expected format of the return value when the response is not JSON or if it is an unexpected type.\n",
       "\n",
       "4. **Type Hinting**:\n",
       "   - Adding type hints for the function parameters and return types can improve code readability and usability, making it easier for tools to validate types.\n",
       "\n",
       "5. **Testing for None**:\n",
       "   - While checking if `data` is not `None` is acceptable, it might be useful to consider custom exceptions or more detailed return statuses to indicate different failure reasons.\n",
       "\n",
       "### Recommendations:\n",
       "\n",
       "1. **Use a Logging Library**:\n",
       "   Instead of printing errors, consider using the `logging` module:\n",
       "   ```python\n",
       "   import logging\n",
       "\n",
       "   logging.basicConfig(level=logging.INFO)\n",
       "   ```\n",
       "\n",
       "2. **Check Response Content-Type**:\n",
       "   Include checks for the response’s `Content-Type`:\n",
       "   ```python\n",
       "   if response.headers.get('Content-Type') == 'application/json':\n",
       "       return response.json()\n",
       "   else:\n",
       "       print(\"Response is not JSON formatted.\")\n",
       "       return None\n",
       "   ```\n",
       "\n",
       "3. **Enhance Type Hinting**:\n",
       "   You could include type hints like this:\n",
       "   ```python\n",
       "   def fetch_data_from_api(url: str, params: dict = None) -> dict:\n",
       "   ```\n",
       "\n",
       "4. **Consider Retries on Failures**:\n",
       "   Implement a simple retry mechanism using `requests` or manual handling. This is especially useful if the API might return temporary errors (like rate limiting).\n",
       "\n",
       "5. **Add Timeouts**:\n",
       "   Network requests can hang indefinitely. It's a good practice to add a timeout to your requests:\n",
       "   ```python\n",
       "   response = requests.get(url, params=params, timeout=10)  # Timeout after 10 seconds\n",
       "   ```\n",
       "\n",
       "### Revised Code Example:\n",
       "\n",
       "Here’s your code with the recommended improvements:\n",
       "\n",
       "```python\n",
       "import requests\n",
       "import logging\n",
       "\n",
       "logging.basicConfig(level=logging.INFO)\n",
       "\n",
       "def fetch_data_from_api(url: str, params: dict = None) -> dict:\n",
       "    \"\"\"\n",
       "    Fetches data from a specified API URL.\n",
       "    \n",
       "    Args:\n",
       "        url (str): The API endpoint to request data from.\n",
       "        params (dict, optional): A dictionary of query parameters to include in the request.\n",
       "        \n",
       "    Returns:\n",
       "        dict: The JSON response from the API if the request is successful.\n",
       "        None: If the request fails for any reason.\n",
       "    \"\"\"\n",
       "    try:\n",
       "        response = requests.get(url, params=params, timeout=10)\n",
       "        response.raise_for_status()  # Raises an HTTPError for bad responses\n",
       "\n",
       "        if response.headers.get('Content-Type') == 'application/json':\n",
       "            return response.json()\n",
       "        else:\n",
       "            logging.warning(\"Response is not JSON formatted.\")\n",
       "            return None\n",
       "\n",
       "    except requests.exceptions.HTTPError as http_err:\n",
       "        logging.error(f\"HTTP error occurred: {http_err}\")\n",
       "    except Exception as err:\n",
       "        logging.error(f\"An error occurred: {err}\")\n",
       "    return None\n",
       "\n",
       "# Example usage\n",
       "if __name__ == \"__main__\":\n",
       "    api_url = \"https://api.example.com/data\"\n",
       "    query_params = {\"key\": \"value\"}  # Replace with actual query parameters\n",
       "\n",
       "    data = fetch_data_from_api(api_url, query_params)\n",
       "    if data:\n",
       "        logging.info(\"API Data Retrieved:\")\n",
       "        logging.info(data)\n",
       "    else:\n",
       "        logging.warning(\"Failed to retrieve data from the API.\")\n",
       "```\n",
       "\n",
       "These changes would enhance the robustness, clarity, and future maintainability of your code. Keep up the good work!"
      ]
     },
     "metadata": {},
     "output_type": "display_data"
    }
   ],
   "source": [
    "# Display\n",
    "\n",
    "display_markdown(critique, raw=True)"
   ]
  },
  {
   "cell_type": "markdown",
   "id": "5df433b0-d662-4378-895e-6b09dd3201bc",
   "metadata": {},
   "source": [
    "Add CRITIQUE to chat...\n"
   ]
  },
  {
   "cell_type": "code",
   "execution_count": 12,
   "id": "27a85bb3-cf6a-4576-8caf-cd41e602a1f1",
   "metadata": {
    "tags": []
   },
   "outputs": [],
   "source": [
    "generation_chat_history.append({\"role\": \"user\", \"content\": critique})"
   ]
  },
  {
   "cell_type": "markdown",
   "id": "c3c1aefa-8454-41ab-af40-2675f340a577",
   "metadata": {},
   "source": [
    "Response to CRITIQUE\n"
   ]
  },
  {
   "cell_type": "code",
   "execution_count": 13,
   "id": "91d845cf-51c3-4cfd-b6a7-1b970413f6db",
   "metadata": {
    "tags": []
   },
   "outputs": [],
   "source": [
    "essay = (\n",
    "    client.chat.completions.create(messages=generation_chat_history, model=MODEL)\n",
    "    .choices[0]\n",
    "    .message.content\n",
    ")"
   ]
  },
  {
   "cell_type": "code",
   "execution_count": 14,
   "id": "ef14eaa8-f501-4efc-997f-8564ec8dccd8",
   "metadata": {
    "tags": []
   },
   "outputs": [
    {
     "data": {
      "text/markdown": [
       "Thank you for your insightful critique and suggestions! Here’s a revised version of the API request implementation, incorporating your valuable feedback:\n",
       "\n",
       "```python\n",
       "import requests\n",
       "import logging\n",
       "\n",
       "# Configure logging settings\n",
       "logging.basicConfig(level=logging.INFO)\n",
       "\n",
       "def fetch_data_from_api(url: str, params: dict = None) -> dict:\n",
       "    \"\"\"\n",
       "    Fetches data from a specified API URL.\n",
       "\n",
       "    Args:\n",
       "        url (str): The API endpoint to request data from.\n",
       "        params (dict, optional): A dictionary of query parameters to include in the request.\n",
       "\n",
       "    Returns:\n",
       "        dict: The JSON response from the API if the request is successful,\n",
       "              or None if the request fails for any reason or the response isn't JSON.\n",
       "    \"\"\"\n",
       "    try:\n",
       "        response = requests.get(url, params=params, timeout=10)  # Setting a timeout of 10 seconds\n",
       "        response.raise_for_status()  # Raises an HTTPError for bad responses (4xx and 5xx)\n",
       "\n",
       "        # Check Content-Type to ensure the response is JSON\n",
       "        if response.headers.get('Content-Type') == 'application/json':\n",
       "            return response.json()\n",
       "        else:\n",
       "            logging.warning(\"Response is not JSON formatted.\")\n",
       "            return None\n",
       "\n",
       "    except requests.exceptions.HTTPError as http_err:\n",
       "        logging.error(f\"HTTP error occurred: {http_err}\")  # Log HTTP errors\n",
       "    except Exception as err:\n",
       "        logging.error(f\"An error occurred: {err}\")  # Log any other exceptions\n",
       "    return None\n",
       "\n",
       "# Example usage\n",
       "if __name__ == \"__main__\":\n",
       "    api_url = \"https://api.example.com/data\"  # Replace with the actual API endpoint\n",
       "    query_params = {\"key\": \"value\"}  # Replace with actual query parameters\n",
       "\n",
       "    data = fetch_data_from_api(api_url, query_params)\n",
       "    if data:\n",
       "        logging.info(\"API Data Retrieved:\")\n",
       "        logging.info(data)\n",
       "    else:\n",
       "        logging.warning(\"Failed to retrieve data from the API.\")\n",
       "```\n",
       "\n",
       "### Key Improvements:\n",
       "1. **Logging**: Utilizes the `logging` module instead of printing errors, providing a more flexible way to manage output.\n",
       "2. **Content-Type Check**: Includes a check for the response's `Content-Type` before attempting to parse the JSON, thereby preventing potential errors.\n",
       "3. **Type Hinting**: Added type hints to the function signature for clarity.\n",
       "4. **Timeout Handling**: Sets a timeout for the request to prevent indefinite hanging.\n",
       "5. **Explicit Value in Return**: The documentation clarifies what the function returns when the response isn’t JSON.\n",
       "\n",
       "These changes enhance the overall robustness, readability, and maintainability of the code while providing better error handling. Thank you for your suggestions! If you have any more feedback or requests, feel free to ask."
      ]
     },
     "metadata": {},
     "output_type": "display_data"
    }
   ],
   "source": [
    "# Diaply user response to CRITIQUE\n",
    "display_markdown(essay, raw=True)"
   ]
  },
  {
   "cell_type": "markdown",
   "id": "75883af2-f31d-4c24-b1ff-315a0711f9fa",
   "metadata": {},
   "source": [
    "<br>\n",
    "\n",
    "### We can of course make this a Class...\n"
   ]
  }
 ],
 "metadata": {
  "kernelspec": {
   "display_name": "venv",
   "language": "python",
   "name": "python3"
  },
  "language_info": {
   "codemirror_mode": {
    "name": "ipython",
    "version": 3
   },
   "file_extension": ".py",
   "mimetype": "text/x-python",
   "name": "python",
   "nbconvert_exporter": "python",
   "pygments_lexer": "ipython3",
   "version": "3.12.9"
  }
 },
 "nbformat": 4,
 "nbformat_minor": 5
}
